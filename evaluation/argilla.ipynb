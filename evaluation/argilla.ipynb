{
 "cells": [
  {
   "cell_type": "code",
   "execution_count": 1,
   "id": "e385645b-fbfd-4b44-a712-e19defb060dc",
   "metadata": {
    "tags": []
   },
   "outputs": [
    {
     "name": "stdout",
     "output_type": "stream",
     "text": [
      "Requirement already satisfied: datasets==2.17.1 in /home/ec2-user/anaconda3/envs/tensorflow2_p310/lib/python3.10/site-packages (from datasets[s3]==2.17.1->-r ../scripts/argilla_requirements.txt (line 1)) (2.17.1)\n",
      "Requirement already satisfied: argilla in /home/ec2-user/anaconda3/envs/tensorflow2_p310/lib/python3.10/site-packages (from -r ../scripts/argilla_requirements.txt (line 2)) (1.28.0)\n",
      "Requirement already satisfied: filelock in /home/ec2-user/anaconda3/envs/tensorflow2_p310/lib/python3.10/site-packages (from datasets==2.17.1->datasets[s3]==2.17.1->-r ../scripts/argilla_requirements.txt (line 1)) (3.13.3)\n",
      "Requirement already satisfied: numpy>=1.17 in /home/ec2-user/anaconda3/envs/tensorflow2_p310/lib/python3.10/site-packages (from datasets==2.17.1->datasets[s3]==2.17.1->-r ../scripts/argilla_requirements.txt (line 1)) (1.23.5)\n",
      "Requirement already satisfied: pyarrow>=12.0.0 in /home/ec2-user/anaconda3/envs/tensorflow2_p310/lib/python3.10/site-packages (from datasets==2.17.1->datasets[s3]==2.17.1->-r ../scripts/argilla_requirements.txt (line 1)) (15.0.2)\n",
      "Requirement already satisfied: pyarrow-hotfix in /home/ec2-user/anaconda3/envs/tensorflow2_p310/lib/python3.10/site-packages (from datasets==2.17.1->datasets[s3]==2.17.1->-r ../scripts/argilla_requirements.txt (line 1)) (0.6)\n",
      "Requirement already satisfied: dill<0.3.9,>=0.3.0 in /home/ec2-user/anaconda3/envs/tensorflow2_p310/lib/python3.10/site-packages (from datasets==2.17.1->datasets[s3]==2.17.1->-r ../scripts/argilla_requirements.txt (line 1)) (0.3.8)\n",
      "Requirement already satisfied: pandas in /home/ec2-user/anaconda3/envs/tensorflow2_p310/lib/python3.10/site-packages (from datasets==2.17.1->datasets[s3]==2.17.1->-r ../scripts/argilla_requirements.txt (line 1)) (1.5.3)\n",
      "Requirement already satisfied: requests>=2.19.0 in /home/ec2-user/anaconda3/envs/tensorflow2_p310/lib/python3.10/site-packages (from datasets==2.17.1->datasets[s3]==2.17.1->-r ../scripts/argilla_requirements.txt (line 1)) (2.31.0)\n",
      "Requirement already satisfied: tqdm>=4.62.1 in /home/ec2-user/anaconda3/envs/tensorflow2_p310/lib/python3.10/site-packages (from datasets==2.17.1->datasets[s3]==2.17.1->-r ../scripts/argilla_requirements.txt (line 1)) (4.66.2)\n",
      "Requirement already satisfied: xxhash in /home/ec2-user/anaconda3/envs/tensorflow2_p310/lib/python3.10/site-packages (from datasets==2.17.1->datasets[s3]==2.17.1->-r ../scripts/argilla_requirements.txt (line 1)) (3.4.1)\n",
      "Requirement already satisfied: multiprocess in /home/ec2-user/anaconda3/envs/tensorflow2_p310/lib/python3.10/site-packages (from datasets==2.17.1->datasets[s3]==2.17.1->-r ../scripts/argilla_requirements.txt (line 1)) (0.70.16)\n",
      "Requirement already satisfied: fsspec<=2023.10.0,>=2023.1.0 in /home/ec2-user/anaconda3/envs/tensorflow2_p310/lib/python3.10/site-packages (from fsspec[http]<=2023.10.0,>=2023.1.0->datasets==2.17.1->datasets[s3]==2.17.1->-r ../scripts/argilla_requirements.txt (line 1)) (2023.10.0)\n",
      "Requirement already satisfied: aiohttp in /home/ec2-user/anaconda3/envs/tensorflow2_p310/lib/python3.10/site-packages (from datasets==2.17.1->datasets[s3]==2.17.1->-r ../scripts/argilla_requirements.txt (line 1)) (3.9.3)\n",
      "Requirement already satisfied: huggingface-hub>=0.19.4 in /home/ec2-user/anaconda3/envs/tensorflow2_p310/lib/python3.10/site-packages (from datasets==2.17.1->datasets[s3]==2.17.1->-r ../scripts/argilla_requirements.txt (line 1)) (0.23.0)\n",
      "Requirement already satisfied: packaging in /home/ec2-user/anaconda3/envs/tensorflow2_p310/lib/python3.10/site-packages (from datasets==2.17.1->datasets[s3]==2.17.1->-r ../scripts/argilla_requirements.txt (line 1)) (21.3)\n",
      "Requirement already satisfied: pyyaml>=5.1 in /home/ec2-user/anaconda3/envs/tensorflow2_p310/lib/python3.10/site-packages (from datasets==2.17.1->datasets[s3]==2.17.1->-r ../scripts/argilla_requirements.txt (line 1)) (6.0.1)\n",
      "Requirement already satisfied: s3fs in /home/ec2-user/anaconda3/envs/tensorflow2_p310/lib/python3.10/site-packages (from datasets[s3]==2.17.1->-r ../scripts/argilla_requirements.txt (line 1)) (0.4.2)\n",
      "Requirement already satisfied: httpx<=0.26,>=0.15 in /home/ec2-user/anaconda3/envs/tensorflow2_p310/lib/python3.10/site-packages (from argilla->-r ../scripts/argilla_requirements.txt (line 2)) (0.26.0)\n",
      "Requirement already satisfied: deprecated~=1.2.0 in /home/ec2-user/anaconda3/envs/tensorflow2_p310/lib/python3.10/site-packages (from argilla->-r ../scripts/argilla_requirements.txt (line 2)) (1.2.14)\n",
      "Requirement already satisfied: pydantic>=1.10.7 in /home/ec2-user/anaconda3/envs/tensorflow2_p310/lib/python3.10/site-packages (from argilla->-r ../scripts/argilla_requirements.txt (line 2)) (2.7.1)\n",
      "Requirement already satisfied: wrapt<1.15,>=1.13 in /home/ec2-user/anaconda3/envs/tensorflow2_p310/lib/python3.10/site-packages (from argilla->-r ../scripts/argilla_requirements.txt (line 2)) (1.14.1)\n",
      "Requirement already satisfied: backoff in /home/ec2-user/anaconda3/envs/tensorflow2_p310/lib/python3.10/site-packages (from argilla->-r ../scripts/argilla_requirements.txt (line 2)) (2.2.1)\n",
      "Requirement already satisfied: monotonic in /home/ec2-user/anaconda3/envs/tensorflow2_p310/lib/python3.10/site-packages (from argilla->-r ../scripts/argilla_requirements.txt (line 2)) (1.6)\n",
      "Requirement already satisfied: rich!=13.1.0 in /home/ec2-user/anaconda3/envs/tensorflow2_p310/lib/python3.10/site-packages (from argilla->-r ../scripts/argilla_requirements.txt (line 2)) (13.7.1)\n",
      "Requirement already satisfied: typer<0.10.0,>=0.6.0 in /home/ec2-user/anaconda3/envs/tensorflow2_p310/lib/python3.10/site-packages (from argilla->-r ../scripts/argilla_requirements.txt (line 2)) (0.9.4)\n",
      "Requirement already satisfied: aiosignal>=1.1.2 in /home/ec2-user/anaconda3/envs/tensorflow2_p310/lib/python3.10/site-packages (from aiohttp->datasets==2.17.1->datasets[s3]==2.17.1->-r ../scripts/argilla_requirements.txt (line 1)) (1.3.1)\n",
      "Requirement already satisfied: attrs>=17.3.0 in /home/ec2-user/anaconda3/envs/tensorflow2_p310/lib/python3.10/site-packages (from aiohttp->datasets==2.17.1->datasets[s3]==2.17.1->-r ../scripts/argilla_requirements.txt (line 1)) (23.2.0)\n",
      "Requirement already satisfied: frozenlist>=1.1.1 in /home/ec2-user/anaconda3/envs/tensorflow2_p310/lib/python3.10/site-packages (from aiohttp->datasets==2.17.1->datasets[s3]==2.17.1->-r ../scripts/argilla_requirements.txt (line 1)) (1.4.1)\n",
      "Requirement already satisfied: multidict<7.0,>=4.5 in /home/ec2-user/anaconda3/envs/tensorflow2_p310/lib/python3.10/site-packages (from aiohttp->datasets==2.17.1->datasets[s3]==2.17.1->-r ../scripts/argilla_requirements.txt (line 1)) (6.0.5)\n",
      "Requirement already satisfied: yarl<2.0,>=1.0 in /home/ec2-user/anaconda3/envs/tensorflow2_p310/lib/python3.10/site-packages (from aiohttp->datasets==2.17.1->datasets[s3]==2.17.1->-r ../scripts/argilla_requirements.txt (line 1)) (1.9.4)\n",
      "Requirement already satisfied: async-timeout<5.0,>=4.0 in /home/ec2-user/anaconda3/envs/tensorflow2_p310/lib/python3.10/site-packages (from aiohttp->datasets==2.17.1->datasets[s3]==2.17.1->-r ../scripts/argilla_requirements.txt (line 1)) (4.0.3)\n",
      "Requirement already satisfied: anyio in /home/ec2-user/anaconda3/envs/tensorflow2_p310/lib/python3.10/site-packages (from httpx<=0.26,>=0.15->argilla->-r ../scripts/argilla_requirements.txt (line 2)) (4.3.0)\n",
      "Requirement already satisfied: certifi in /home/ec2-user/anaconda3/envs/tensorflow2_p310/lib/python3.10/site-packages (from httpx<=0.26,>=0.15->argilla->-r ../scripts/argilla_requirements.txt (line 2)) (2024.2.2)\n",
      "Requirement already satisfied: httpcore==1.* in /home/ec2-user/anaconda3/envs/tensorflow2_p310/lib/python3.10/site-packages (from httpx<=0.26,>=0.15->argilla->-r ../scripts/argilla_requirements.txt (line 2)) (1.0.4)\n",
      "Requirement already satisfied: idna in /home/ec2-user/anaconda3/envs/tensorflow2_p310/lib/python3.10/site-packages (from httpx<=0.26,>=0.15->argilla->-r ../scripts/argilla_requirements.txt (line 2)) (3.6)\n",
      "Requirement already satisfied: sniffio in /home/ec2-user/anaconda3/envs/tensorflow2_p310/lib/python3.10/site-packages (from httpx<=0.26,>=0.15->argilla->-r ../scripts/argilla_requirements.txt (line 2)) (1.3.1)\n",
      "Requirement already satisfied: h11<0.15,>=0.13 in /home/ec2-user/anaconda3/envs/tensorflow2_p310/lib/python3.10/site-packages (from httpcore==1.*->httpx<=0.26,>=0.15->argilla->-r ../scripts/argilla_requirements.txt (line 2)) (0.14.0)\n",
      "Requirement already satisfied: typing-extensions>=3.7.4.3 in /home/ec2-user/anaconda3/envs/tensorflow2_p310/lib/python3.10/site-packages (from huggingface-hub>=0.19.4->datasets==2.17.1->datasets[s3]==2.17.1->-r ../scripts/argilla_requirements.txt (line 1)) (4.10.0)\n",
      "Requirement already satisfied: pyparsing!=3.0.5,>=2.0.2 in /home/ec2-user/anaconda3/envs/tensorflow2_p310/lib/python3.10/site-packages (from packaging->datasets==2.17.1->datasets[s3]==2.17.1->-r ../scripts/argilla_requirements.txt (line 1)) (3.1.2)\n",
      "Requirement already satisfied: python-dateutil>=2.8.1 in /home/ec2-user/anaconda3/envs/tensorflow2_p310/lib/python3.10/site-packages (from pandas->datasets==2.17.1->datasets[s3]==2.17.1->-r ../scripts/argilla_requirements.txt (line 1)) (2.9.0)\n",
      "Requirement already satisfied: pytz>=2020.1 in /home/ec2-user/anaconda3/envs/tensorflow2_p310/lib/python3.10/site-packages (from pandas->datasets==2.17.1->datasets[s3]==2.17.1->-r ../scripts/argilla_requirements.txt (line 1)) (2024.1)\n",
      "Requirement already satisfied: annotated-types>=0.4.0 in /home/ec2-user/anaconda3/envs/tensorflow2_p310/lib/python3.10/site-packages (from pydantic>=1.10.7->argilla->-r ../scripts/argilla_requirements.txt (line 2)) (0.7.0)\n",
      "Requirement already satisfied: pydantic-core==2.18.2 in /home/ec2-user/anaconda3/envs/tensorflow2_p310/lib/python3.10/site-packages (from pydantic>=1.10.7->argilla->-r ../scripts/argilla_requirements.txt (line 2)) (2.18.2)\n",
      "Requirement already satisfied: charset-normalizer<4,>=2 in /home/ec2-user/anaconda3/envs/tensorflow2_p310/lib/python3.10/site-packages (from requests>=2.19.0->datasets==2.17.1->datasets[s3]==2.17.1->-r ../scripts/argilla_requirements.txt (line 1)) (3.3.2)\n",
      "Requirement already satisfied: urllib3<3,>=1.21.1 in /home/ec2-user/anaconda3/envs/tensorflow2_p310/lib/python3.10/site-packages (from requests>=2.19.0->datasets==2.17.1->datasets[s3]==2.17.1->-r ../scripts/argilla_requirements.txt (line 1)) (2.2.1)\n",
      "Requirement already satisfied: markdown-it-py>=2.2.0 in /home/ec2-user/anaconda3/envs/tensorflow2_p310/lib/python3.10/site-packages (from rich!=13.1.0->argilla->-r ../scripts/argilla_requirements.txt (line 2)) (3.0.0)\n",
      "Requirement already satisfied: pygments<3.0.0,>=2.13.0 in /home/ec2-user/anaconda3/envs/tensorflow2_p310/lib/python3.10/site-packages (from rich!=13.1.0->argilla->-r ../scripts/argilla_requirements.txt (line 2)) (2.17.2)\n",
      "Requirement already satisfied: click<9.0.0,>=7.1.1 in /home/ec2-user/anaconda3/envs/tensorflow2_p310/lib/python3.10/site-packages (from typer<0.10.0,>=0.6.0->argilla->-r ../scripts/argilla_requirements.txt (line 2)) (8.1.7)\n",
      "Requirement already satisfied: botocore>=1.12.91 in /home/ec2-user/anaconda3/envs/tensorflow2_p310/lib/python3.10/site-packages (from s3fs->datasets[s3]==2.17.1->-r ../scripts/argilla_requirements.txt (line 1)) (1.34.101)\n",
      "Requirement already satisfied: jmespath<2.0.0,>=0.7.1 in /home/ec2-user/anaconda3/envs/tensorflow2_p310/lib/python3.10/site-packages (from botocore>=1.12.91->s3fs->datasets[s3]==2.17.1->-r ../scripts/argilla_requirements.txt (line 1)) (1.0.1)\n",
      "Requirement already satisfied: mdurl~=0.1 in /home/ec2-user/anaconda3/envs/tensorflow2_p310/lib/python3.10/site-packages (from markdown-it-py>=2.2.0->rich!=13.1.0->argilla->-r ../scripts/argilla_requirements.txt (line 2)) (0.1.2)\n",
      "Requirement already satisfied: six>=1.5 in /home/ec2-user/anaconda3/envs/tensorflow2_p310/lib/python3.10/site-packages (from python-dateutil>=2.8.1->pandas->datasets==2.17.1->datasets[s3]==2.17.1->-r ../scripts/argilla_requirements.txt (line 1)) (1.16.0)\n",
      "Requirement already satisfied: exceptiongroup>=1.0.2 in /home/ec2-user/anaconda3/envs/tensorflow2_p310/lib/python3.10/site-packages (from anyio->httpx<=0.26,>=0.15->argilla->-r ../scripts/argilla_requirements.txt (line 2)) (1.2.0)\n",
      "Note: you may need to restart the kernel to use updated packages.\n"
     ]
    }
   ],
   "source": [
    "%pip install -r ../scripts/argilla_requirements.txt"
   ]
  },
  {
   "cell_type": "code",
   "execution_count": 2,
   "id": "0ad97bff-559d-4586-bb88-b4eb13c5dc3f",
   "metadata": {
    "tags": []
   },
   "outputs": [],
   "source": [
    "from datasets import load_dataset\n",
    "import argilla as rg\n",
    "import json\n",
    "import re\n",
    "from typing import List, Tuple\n",
    "import json\n",
    "from utils import compute_argilla_entities\n",
    "\n",
    "# dataset used\n",
    "data_path = 'MichaelAI23/English_CVs'"
   ]
  },
  {
   "cell_type": "code",
   "execution_count": 3,
   "id": "09483e2e-64b3-4cad-9d37-2992b1dccf69",
   "metadata": {
    "tags": []
   },
   "outputs": [
    {
     "data": {
      "text/plain": [
       "Dataset({\n",
       "    features: ['output', 'hobbies', 'personal', 'work_experience', 'skills', 'academia', 'education', 'overall'],\n",
       "    num_rows: 1000\n",
       "})"
      ]
     },
     "execution_count": 3,
     "metadata": {},
     "output_type": "execute_result"
    }
   ],
   "source": [
    "data = load_dataset(data_path)\n",
    "data[\"train\"]"
   ]
  },
  {
   "cell_type": "code",
   "execution_count": 4,
   "id": "44affcee-132e-40ff-ab5e-894b1f1b6fa3",
   "metadata": {
    "tags": []
   },
   "outputs": [],
   "source": [
    "train_val = data[\"train\"].train_test_split(\n",
    "    test_size=100, shuffle=True, seed=42\n",
    ")"
   ]
  },
  {
   "cell_type": "code",
   "execution_count": 5,
   "id": "8de299d6-78dd-4afe-ac78-a7c7093b2c85",
   "metadata": {
    "tags": []
   },
   "outputs": [],
   "source": [
    "train_data = train_val[\"train\"]\n",
    "val_data = train_val[\"test\"]"
   ]
  },
  {
   "cell_type": "code",
   "execution_count": 6,
   "id": "e1913088-3420-4748-843d-178672b33dfa",
   "metadata": {
    "tags": []
   },
   "outputs": [],
   "source": [
    "api_url = \"https://michaelai23-argillatest.hf.space\"\n"
   ]
  },
  {
   "cell_type": "code",
   "execution_count": 7,
   "id": "1699e2c3-e942-40f1-a78e-81f68ac5fe48",
   "metadata": {
    "tags": []
   },
   "outputs": [
    {
     "name": "stderr",
     "output_type": "stream",
     "text": [
      "/home/ec2-user/anaconda3/envs/tensorflow2_p310/lib/python3.10/site-packages/argilla/client/client.py:195: UserWarning: You're connecting to Argilla Server 1.26.0 using a different client version (1.28.0).\n",
      "This may lead to potential compatibility issues during your experience.\n",
      "To ensure a seamless and optimized connection, we highly recommend aligning your client version with the server version.\n",
      "  warnings.warn(\n"
     ]
    }
   ],
   "source": [
    "rg.init(\n",
    "    api_url=api_url,\n",
    "    api_key=\"owner.apikey\",\n",
    "    workspace=\"admin\"\n",
    ")"
   ]
  },
  {
   "cell_type": "code",
   "execution_count": 8,
   "id": "1ebfbaa4-774a-4e4f-829f-279890eed0e6",
   "metadata": {
    "tags": []
   },
   "outputs": [],
   "source": [
    "CV_text = val_data[0][\"overall\"]"
   ]
  },
  {
   "cell_type": "code",
   "execution_count": 9,
   "id": "bf877060-a28e-448e-a133-6c4f93fae7ef",
   "metadata": {
    "tags": []
   },
   "outputs": [
    {
     "data": {
      "text/plain": [
       "'As a Business Analyst at TechSolutions Inc., I was responsible for analyzing market trends and providing strategic recommendations to drive business growth. I started my role in January 2014 after graduating in 2012 and continued until December 2018, where I successfully implemented data-driven solutions that improved operational efficiency.\\n- Published research paper on \"The Impact of Data Analytics in Business Decision Making\" in Journal of Business Intelligence, 2012\\n- Co-authored a study on \"Predictive Modeling for Customer Churn Analysis\" in International Conference on Business Analytics, 2013\\n- Presented findings on \"Optimizing Supply Chain Management through Big Data Analysis\" at the Annual Meeting of Operations Research Society, 2014\\n- Contributed to a book chapter titled \"Emerging Trends in Business Forecasting Techniques\" published by Springer, 2015\\n- Received Best Paper Award for research on \"Machine Learning Applications in Marketing Strategy Development\" at the Academy of Management Conference, 2016\\nExperienced Business Analyst with a proven track record of leveraging data-driven insights to drive strategic decision-making and improve operational efficiency. Skilled in conducting thorough market research, analyzing complex business processes, and developing innovative solutions to optimize performance. Proficient in translating technical requirements into user-friendly reports and presentations for stakeholders at all levels. Adept at collaborating cross-functionally to deliver actionable recommendations that align with organizational goals and drive sustainable growth.\\nMichael Lima is a guest at The Burj Al Arab Jumeirah in Dubai, UAE. His mailing address is P.O. Box 74147, Dubai, United Arab Emirates. He can be reached by phone at +971-4-3017777. Michael Lima enjoys the luxurious amenities and stunning views offered by the iconic hotel.\\n'"
      ]
     },
     "execution_count": 9,
     "metadata": {},
     "output_type": "execute_result"
    }
   ],
   "source": [
    "CV_text"
   ]
  },
  {
   "cell_type": "code",
   "execution_count": 10,
   "id": "05087cd7-fd32-4599-b9ec-05161dc893f9",
   "metadata": {
    "tags": []
   },
   "outputs": [],
   "source": [
    "output = val_data[0][\"output\"]"
   ]
  },
  {
   "attachments": {},
   "cell_type": "markdown",
   "id": "59cc8afc-4f33-4384-80d7-12384e0199ae",
   "metadata": {},
   "source": [
    "#### Compare predictions and the labels"
   ]
  },
  {
   "cell_type": "code",
   "execution_count": 12,
   "id": "9651ce46-89be-4deb-a875-129c8eca6365",
   "metadata": {
    "tags": []
   },
   "outputs": [],
   "source": [
    "with open(f\"../textmarker_predictions_tokens_small.json\", \"r\", encoding=\"utf-8\") as fp:\n",
    "    CV_preds = json.load(fp)[\"model_preds\"]"
   ]
  },
  {
   "cell_type": "code",
   "execution_count": 15,
   "id": "678354d8-719e-4f22-9318-b0cc64a2416f",
   "metadata": {
    "tags": []
   },
   "outputs": [],
   "source": [
    "preds = list(CV_preds.values())\n",
    "preds = [pred[0][\"generated_text\"] for pred in preds]"
   ]
  },
  {
   "cell_type": "code",
   "execution_count": 24,
   "id": "c63484d8-7d46-41df-bb0c-f69736a0c2be",
   "metadata": {
    "tags": []
   },
   "outputs": [
    {
     "data": {
      "text/plain": [
       "\"{'pe':{'s': 'Michael', 'e': ' hotel.'}, 'ed':{'s': '', 'e': ''}, 'wo':{'s': 'As', 'e': ' efficiency.'}, 'sk':{'s': 'Experienced', 'e': ' growth.'}}\""
      ]
     },
     "execution_count": 24,
     "metadata": {},
     "output_type": "execute_result"
    }
   ],
   "source": [
    "preds[0]"
   ]
  },
  {
   "cell_type": "code",
   "execution_count": 16,
   "id": "6ca15432-412f-4e99-8baa-3e22e8632404",
   "metadata": {
    "tags": []
   },
   "outputs": [],
   "source": [
    "labels = val_data[\"output\"]"
   ]
  },
  {
   "cell_type": "code",
   "execution_count": 17,
   "id": "39356ad2-3460-4f70-8053-d82d5ba75e58",
   "metadata": {
    "tags": []
   },
   "outputs": [
    {
     "data": {
      "text/plain": [
       "{'pe': {'s': 'Michael', 'e': ' hotel.'},\n",
       " 'ed': {'s': '', 'e': ''},\n",
       " 'wo': {'s': 'As', 'e': ' efficiency.'},\n",
       " 'sk': {'s': 'Experienced', 'e': ' growth.'}}"
      ]
     },
     "execution_count": 17,
     "metadata": {},
     "output_type": "execute_result"
    }
   ],
   "source": [
    "json.loads(preds[0].replace(\"\\'\", \"\\\"\"))"
   ]
  },
  {
   "cell_type": "code",
   "execution_count": 18,
   "id": "61db68e7-32f7-494a-aef1-16a44c52acd0",
   "metadata": {
    "tags": []
   },
   "outputs": [
    {
     "data": {
      "text/plain": [
       "True"
      ]
     },
     "execution_count": 18,
     "metadata": {},
     "output_type": "execute_result"
    }
   ],
   "source": [
    "json.loads(labels[0].replace(\"\\'\", \"\\\"\")) == json.loads(preds[0].replace(\"\\'\", \"\\\"\"))"
   ]
  },
  {
   "cell_type": "code",
   "execution_count": 19,
   "id": "9efe4f7e-824d-4c02-ba57-687d7b98b479",
   "metadata": {
    "tags": []
   },
   "outputs": [
    {
     "name": "stdout",
     "output_type": "stream",
     "text": [
      "- Proficient in designing complex technical solutions that align with business objectives and requirements, demonstrating a deep understanding of architecture principles and best practices.\n",
      "- Skilled in translating high-level business strategies into detailed technical designs, ensuring scalability, security, and performance are considered at every stage of the solution development process.\n",
      "- Experienced in leading cross-functional teams and collaborating with stakeholders to drive consensus on architectural decisions, fostering a culture of innovation and continuous improvement.\n",
      "- Proven ability to communicate effectively with both technical and non-technical audiences, presenting complex ideas in a clear and concise manner to facilitate decision-making and project success.\n",
      "- Co-authored a research paper on \"Optimizing Cloud Solutions for Scalability\" published in the International Journal of Cloud Computing in 2020.\n",
      "- Presented findings on \"Integration Strategies for Enterprise Systems\" at the IEEE Conference on Software Architecture in 2021.\n",
      "- Contributed to a chapter on \"Emerging Trends in Digital Transformation\" in a book titled \"Innovations in Information Technology\" released in 2022.\n",
      "- Published an article on \"Security Considerations in IoT Architectures\" in the Journal of Internet of Things Research in 2023.\n",
      "Jose Cruz can be reached at jose.cruz@example.com. He resides at 123 Lakeview Drive, Udaipur, India. For any inquiries, he can be contacted at +91-9876543210.\n",
      "Solution Architect, 2020 - Present at Tech Solutions Inc.\n",
      "- Design and implement end-to-end solutions for clients in various industries\n",
      "- Collaborate with cross-functional teams to ensure successful delivery of projects\n",
      "I enjoy mountain biking on weekends to stay active and explore nature. In addition, I have a passion for photography and love capturing beautiful moments in landscapes and portraits. Furthermore, I find relaxation in playing the guitar and creating music in my free time.\n",
      "- Bachelor of Science in Computer Science, KTH Royal Institute of Technology, Stockholm, Sweden, 2017\n",
      "- Master of Science in Information Systems, Lund University, Lund, Sweden, 2019\n",
      "- Certified Solution Architect, Swedish Association of IT Professionals, 2020\n",
      "{'pe':{'s': 'Jose', 'e': '-9876543210.'}, 'ed':{'s': '- Bachelor', 'e': ', 2020'}, 'wo':{'s': 'Solution', 'e': ' projects'}, 'sk':{'s': '- Proficient', 'e': ' success.'}}\n",
      "{'pe': {'s': 'Jose', 'e': '-9876543210.'}, 'ed': {'s': '- Bachelor', 'e': ', 2020'}, 'wo': {'s': 'Solution Architect', 'e': ' projects'}, 'sk': {'s': '- Proficient', 'e': ' success.'}}\n",
      "1\n",
      "As a Data Scientist at TechGen Analytics, I utilized machine learning algorithms to optimize customer segmentation strategies from 2022 to 2024. Following my graduation in 2022, I joined DataTech Solutions as a Senior Data Scientist where I led a team in developing predictive models for financial forecasting until 2026.\n",
      "\n",
      "- Master of Science in Data Science, University of Edinburgh, 2022\n",
      "- Bachelor of Science in Computer Science with a specialization in Artificial Intelligence, University of Cambridge, 2019\n",
      "\n",
      "As a Data Scientist, I possess advanced proficiency in statistical analysis and machine learning techniques, allowing me to derive valuable insights from complex datasets. My expertise in programming languages such as Python and R enables me to develop sophisticated data models and algorithms to solve real-world problems efficiently. With a strong background in data visualization and storytelling, I excel at communicating technical findings to non-technical stakeholders in a clear and compelling manner.\n",
      "\n",
      "- \"Predictive Modeling for Customer Churn Analysis Using Machine Learning Techniques,\" International Journal of Data Science, 2022\n",
      "- \"Exploring the Impact of Feature Engineering on Model Performance in Natural Language Processing Tasks,\" IEEE Transactions on Big Data, 2023\n",
      "- \"An Ensemble Approach to Time Series Forecasting: A Case Study in Financial Markets,\" Journal of Artificial Intelligence Research, 2024\n",
      "- \"Interpretable Machine Learning Models for Healthcare Predictive Analytics,\" ACM Transactions on Intelligent Systems and Technology, 2025\n",
      "- \"Ethical Considerations in Data Science: Addressing Bias and Fairness in Algorithmic Decision-Making,\" Proceedings of the AAAI Conference on Artificial Intelligence, 2026\n",
      "\n",
      "- I enjoy dancing in my free time, especially salsa and hip-hop.\n",
      "- I love hiking and exploring the great outdoors on weekends.\n",
      "- Cooking is a passion of mine, and I often experiment with new recipes.\n",
      "- Painting and sketching help me unwind and tap into my creative side.\n",
      "- Playing the guitar is another hobby that brings me joy and relaxation.\n",
      "- I am an avid reader and always have a book on hand to dive into different worlds.\n",
      "\n",
      "Sophia Lima from The Mandarin Oriental in Hong Kong can be reached at sophialima@mandarinoriental.com. Her address is 123 Luxury Lane, Central District, Hong Kong, and her phone number is +852-9876-5432.\n",
      "{'pe':{'s': 'Sophia', 'e': '-5432.'}, 'ed':{'s': '- Master', 'e': ', 2019'}, 'wo':{'s': 'As', 'e': ' 2026.'}, 'sk':{'s': 'As a', 'e': ' manner.'}}\n",
      "{'pe': {'s': 'Sophia', 'e': '-5432.'}, 'ed': {'s': '- Master', 'e': ', 2019'}, 'wo': {'s': 'As', 'e': ' 2026.'}, 'sk': {'s': 'As a Data Scientist, I', 'e': ' manner.'}}\n",
      "2\n",
      "\n",
      "- Proficient in designing and implementing scalable data pipelines using tools such as Apache Spark and Kafka, with a strong focus on optimizing performance and reliability.\n",
      "- Skilled in building and maintaining data infrastructure on cloud platforms like AWS, leveraging services like S3, Redshift, and EMR to enable efficient data processing and analysis.\n",
      "- I enjoy mountain biking on weekends and exploring new trails in the great outdoors.\n",
      "- Cooking is a passion of mine, and I love experimenting with different recipes and cuisines.\n",
      "- Photography is another hobby that allows me to capture beautiful moments and scenes through my lens.\n",
      "- I am an avid reader and always have a book or two on my nightstand that I delve into before bed.\n",
      "- Traveling is a big part of my life, and I love immersing myself in different cultures and trying new foods.\n",
      "1. As a Data Engineer at TechData Solutions, I led the development of scalable data pipelines from 2014 to 2017, enabling real-time analytics for our clients in the e-commerce sector.\n",
      "\n",
      "2. At CloudWorks Innovations, I designed and implemented a cloud-based data lake architecture between 2018 and 2020, improving data accessibility and processing efficiency across multiple business units.\n",
      "\n",
      "3. From 2021 to present, as a Senior Data Engineer at Insightful Analytics Co., I have been instrumental in building machine learning models that drive personalized recommendations for our users, leveraging my expertise gained since graduating in 2012.\n",
      "{'pe':{'s': '', 'e': ''}, 'ed':{'s': '', 'e': ''}, 'wo':{'s': '1. As', 'e': ' 2012.'}, 'sk':{'s': '- Proficient', 'e': ' analysis.'}}\n",
      "{'pe': {'s': '', 'e': ''}, 'ed': {'s': '', 'e': ''}, 'wo': {'s': '1', 'e': ' 2012.'}, 'sk': {'s': '- Proficient', 'e': ' analysis.'}}\n",
      "3\n",
      "I enjoy mountain biking on weekends to stay active and explore nature. In addition, I have a passion for painting landscapes in my free time as a creative outlet that is completely unrelated to my work as a Data Scientist.\n",
      "- Mail: ava.schmidt@theraffles.com\n",
      "- Address: The Raffles, Anse Takamaka, Seychelles\n",
      "- Phone: +248 1234567\n",
      "- Name: Ava Schmidt\n",
      "- LinkedIn: linkedin.com/in/ava-schmidt\n",
      "Data Scientist, 2014 - 2016 at Google\n",
      "- Developed machine learning models to optimize search engine algorithms and improve user experience.\n",
      "- Collaborated with cross-functional teams to extract insights from large datasets and drive data-driven decision-making processes.\n",
      "A bachelor's degree in Computer Science from Universidad Complutense de Madrid in 2010 and a master's degree in Data Science from Universidad Politécnica de Madrid in 2014 were successfully completed.\n",
      "- Proficient in statistical analysis and machine learning techniques to derive insights from complex datasets\n",
      "- Skilled in data visualization tools such as Tableau and Power BI to communicate findings effectively to stakeholders\n",
      "- Experienced in programming languages like Python and R for data manipulation and model building\n",
      "- Strong background in experimental design and hypothesis testing to drive data-driven decision-making processes\n",
      "{'pe':{'s': '- Mail', 'e': '-schmidt'}, 'ed':{'s': 'A bachelor', 'e': ' completed.'}, 'wo':{'s': 'Data', 'e': ' processes.'}, 'sk':{'s': '- Proficient', 'e': ' processes'}}\n",
      "{'pe': {'s': '- Mail', 'e': '-schmidt'}, 'ed': {'s': 'A bachelor', 'e': ' completed.'}, 'wo': {'s': 'Data Scientist, 2014', 'e': ' processes.'}, 'sk': {'s': '- Proficient', 'e': ' processes'}}\n",
      "4\n",
      "I enjoy mountain biking on weekends to stay active and explore nature. In addition, I have a passion for photography and love capturing beautiful moments in landscapes and portraits. Furthermore, I find relaxation in playing the guitar and creating music in my free time.\n",
      "\n",
      "- Proficient in designing complex technical solutions that align with business objectives and requirements, demonstrating a deep understanding of architecture principles and best practices.\n",
      "- Skilled in translating high-level business strategies into detailed technical designs, ensuring scalability, security, and performance are considered at every stage of the solution development process.\n",
      "- Experienced in leading cross-functional teams and collaborating with stakeholders to drive consensus on architectural decisions, fostering a culture of innovation and continuous improvement.\n",
      "- Proven ability to communicate effectively with both technical and non-technical audiences, presenting complex ideas in a clear and concise manner to facilitate decision-making and project success.\n",
      "\n",
      "\n",
      "\n",
      "A bachelor's degree in Computer Science from Aalto University in 2013 was successfully completed by the Finnish Solution Architect.\n",
      "\n",
      "Solution Architect, 2015 - 2017 at IBM\n",
      "- Designed and implemented complex IT solutions for clients in various industries.\n",
      "- Collaborated with cross-functional teams to ensure successful delivery of projects on time and within budget.\n",
      "- Provided technical expertise and guidance to support sales efforts and client relationships.\n",
      "\n",
      "Senior Solution Architect, 2017 - 2020 at Microsoft\n",
      "- Led a team of solution architects in developing innovative cloud-based solutions for enterprise customers.\n",
      "- Defined architecture standards and best practices to drive consistency and quality across projects.\n",
      "- Engaged with key stakeholders to understand business requirements and translate them into technical solutions.\n",
      "{'pe':{'s': '', 'e': ''}, 'ed':{'s': 'A bachelor', 'e': ' Architect.'}, 'wo':{'s': 'Solution Architect, 2015', 'e': ' technical solutions.'}, 'sk':{'s': '- Proficient', 'e': ' success.'}}\n",
      "{'pe': {'s': '', 'e': ''}, 'ed': {'s': 'A', 'e': ' Architect.'}, 'wo': {'s': 'Solution Architect, 2015', 'e': ' technical solutions.'}, 'sk': {'s': '- Proficient', 'e': ' success.'}}\n",
      "5\n",
      "\n",
      "\n",
      "- Proficient in designing complex technical solutions that align with business objectives, leveraging a deep understanding of enterprise architecture principles and best practices.\n",
      "- Skilled at collaborating with cross-functional teams to gather requirements, analyze system capabilities, and propose innovative solutions that drive operational efficiency and enhance user experience.\n",
      "- Experienced in presenting technical concepts to non-technical stakeholders in a clear and concise manner, demonstrating strong communication and problem-solving skills.\n",
      "\n",
      "1. As a Solution Architect at TechSolve Innovations, I led the design and implementation of cutting-edge solutions for our clients in the healthcare industry from 2020 to 2022.\n",
      "2. Starting my career journey as a Solution Architect at DataGenius Solutions in 2019, I collaborated with cross-functional teams to deliver scalable and secure software solutions that exceeded client expectations.\n",
      "3. From 2021 to 2023, I served as a Solution Architect at CloudVision Technologies, where I played a key role in architecting cloud-based solutions for global enterprises, leveraging my expertise gained since graduating in 2019.\n",
      "\n",
      "- Mail: luna.melo@slshotels.com\n",
      "- Address: The SLS Beverly Hills, Los Angeles, USA\n",
      "- Phone: +1 (310) 123-4567\n",
      "- Name: Luna Melo\n",
      "- LinkedIn: linkedin.com/in/lunamelo\n",
      "\n",
      "- Bachelor of Science in Computer Science, University of Cambridge, 2016\n",
      "- Master of Business Administration, London School of Economics, 2018\n",
      "- Professional Certification in Enterprise Architecture, British Computer Society, 2019\n",
      "{'pe':{'s': '- Mail', 'e': '/lunamelo'}, 'ed':{'s': '- Bachelor', 'e': ', 2019'}, 'wo':{'s': '1. As', 'e': ' graduating in 2019.'}, 'sk':{'s': '- Proficient', 'e': ' skills.'}}\n",
      "{'pe': {'s': '- Mail', 'e': '/lunamelo'}, 'ed': {'s': '- Bachelor', 'e': ', 2019'}, 'wo': {'s': '1', 'e': ' graduating in 2019.'}, 'sk': {'s': '- Proficient', 'e': ' skills.'}}\n",
      "6\n"
     ]
    }
   ],
   "source": [
    "sum = 0\n",
    "for i in range(len(labels)):\n",
    "    if json.loads(preds[i].replace(\"\\'\", \"\\\"\")) != json.loads(labels[i].replace(\"\\'\", \"\\\"\")):\n",
    "        print(val_data[\"overall\"][i])\n",
    "        print(preds[i])\n",
    "        print(labels[i])\n",
    "        sum += 1\n",
    "        print(sum)"
   ]
  },
  {
   "cell_type": "code",
   "execution_count": 17,
   "id": "b7c21712-e8a8-400a-a18a-a939741e7f28",
   "metadata": {
    "tags": []
   },
   "outputs": [
    {
     "name": "stdout",
     "output_type": "stream",
     "text": [
      "- Proficient in designing complex technical solutions that align with business objectives and requirements, demonstrating a deep understanding of architecture principles and best practices.\n",
      "- Skilled in translating high-level business strategies into detailed technical designs, ensuring scalability, security, and performance are considered at every stage of the solution development process.\n",
      "- Experienced in leading cross-functional teams and collaborating with stakeholders to drive consensus on architectural decisions, fostering a culture of innovation and continuous improvement.\n",
      "- Proven ability to communicate effectively with both technical and non-technical audiences, presenting complex ideas in a clear and concise manner to facilitate decision-making and project success.\n",
      "- Co-authored a research paper on \"Optimizing Cloud Solutions for Scalability\" published in the International Journal of Cloud Computing in 2020.\n",
      "- Presented findings on \"Integration Strategies for Enterprise Systems\" at the IEEE Conference on Software Architecture in 2021.\n",
      "- Contributed to a chapter on \"Emerging Trends in Digital Transformation\" in a book titled \"Innovations in Information Technology\" released in 2022.\n",
      "- Published an article on \"Security Considerations in IoT Architectures\" in the Journal of Internet of Things Research in 2023.\n",
      "Jose Cruz can be reached at jose.cruz@example.com. He resides at 123 Lakeview Drive, Udaipur, India. For any inquiries, he can be contacted at +91-9876543210.\n",
      "Solution Architect, 2020 - Present at Tech Solutions Inc.\n",
      "- Design and implement end-to-end solutions for clients in various industries\n",
      "- Collaborate with cross-functional teams to ensure successful delivery of projects\n",
      "I enjoy mountain biking on weekends to stay active and explore nature. In addition, I have a passion for photography and love capturing beautiful moments in landscapes and portraits. Furthermore, I find relaxation in playing the guitar and creating music in my free time.\n",
      "- Bachelor of Science in Computer Science, KTH Royal Institute of Technology, Stockholm, Sweden, 2017\n",
      "- Master of Science in Information Systems, Lund University, Lund, Sweden, 2019\n",
      "- Certified Solution Architect, Swedish Association of IT Professionals, 2020\n",
      "{'pe': {'s': 'Jose', 'e': '-9876543210.'}, 'ed': {'s': '- Bachelor', 'e': ', 2020'}, 'wo': {'s': 'Solution', 'e': ' projects'}, 'sk': {'s': '- Proficient', 'e': ' success.'}}\n",
      "{'pe': {'s': 'Jose', 'e': '-9876543210.'}, 'ed': {'s': '- Bachelor', 'e': ', 2020'}, 'wo': {'s': 'Solution Architect', 'e': ' projects'}, 'sk': {'s': '- Proficient', 'e': ' success.'}}\n",
      "1\n",
      "- I enjoy playing golf in my free time and love spending hours on the course perfecting my swing.\n",
      "- Photography is another passion of mine, capturing beautiful moments and landscapes brings me joy.\n",
      "- Cooking is a relaxing hobby for me, experimenting with new recipes and flavors is always exciting.\n",
      "- Traveling to different countries and immersing myself in different cultures is something I look forward to every chance I get.\n",
      "- Reading fiction novels is a great way for me to unwind and escape into different worlds.\n",
      "A bachelor's degree in Business Administration from Bocconi University in 2011 and a master's degree in Finance from the same university in 2014 were successfully completed.\n",
      "Business Analyst, 2016 - 2018 at Deloitte\n",
      "- Conducted data analysis and market research to support client projects.\n",
      "- Collaborated with cross-functional teams to develop business strategies based on findings.\n",
      "- Presented insights and recommendations to senior management for decision-making.\n",
      "\n",
      "Senior Business Analyst, 2018 - 2020 at Amazon\n",
      "- Led a team of analysts in analyzing customer behavior and sales trends.\n",
      "- Implemented process improvements that resulted in a 15% increase in operational efficiency.\n",
      "- Prepared detailed reports and dashboards for executive leadership.\n",
      "The individual began publishing academic articles related to business analysis in 2014, contributing valuable insights and research findings to the field. Their publications have provided a scholarly perspective on various aspects of business analytics and decision-making processes.\n",
      "Experienced Business Analyst with a proven track record of driving strategic decision-making through data analysis and interpretation. Skilled in identifying key business trends and opportunities to optimize processes and increase efficiency. Proficient in creating detailed reports and presentations that effectively communicate complex information to stakeholders at all levels. Strong background in project management, stakeholder engagement, and cross-functional collaboration.\n",
      "- Mail: ava.schmidt@theraffles.com\n",
      "- Address: The Raffles, Anse Takamaka, Seychelles\n",
      "- Phone: +248 1234567\n",
      "- Name: Ava Schmidt\n",
      "- LinkedIn: linkedin.com/in/ava-schmidt\n",
      "{'pe': {'s': '- Mail', 'e': '-schmidt'}, 'ed': {'s': 'A bachelor', 'e': ' completed.'}, 'wo': {'s': 'Business Analyst', 'e': ' leadership.'}, 'sk': {'s': 'Experienced', 'e': ' collaboration.'}}\n",
      "{'pe': {'s': '- Mail', 'e': '-schmidt'}, 'ed': {'s': 'A', 'e': ' completed.'}, 'wo': {'s': 'Business Analyst', 'e': ' leadership.'}, 'sk': {'s': 'Experienced', 'e': ' collaboration.'}}\n",
      "2\n",
      "- I enjoy playing golf in my free time, it's a great way to relax and stay active.\n",
      "- I have a passion for cooking and love trying out new recipes in the kitchen.\n",
      "- Photography is another hobby of mine; capturing moments and scenes through my camera lens brings me joy.\n",
      "- I am an avid reader and always have a book on hand to dive into different worlds and stories.\n",
      "- Traveling is something I look forward to, exploring new places and experiencing different cultures is enriching.\n",
      "\n",
      "1. As a Data Scientist at TechInsight, I led the development of predictive models to optimize customer segmentation strategies from 2010 to 2013.\n",
      "2. At Analytix Solutions, I spearheaded the implementation of machine learning algorithms for fraud detection in financial transactions between 2014 and 2017.\n",
      "3. Serving as the Lead Data Scientist at InnovateData, I designed and deployed natural language processing solutions for sentiment analysis from 2018 to 2021.\n",
      "4. During my tenure at InfoAnalytics, I collaborated with cross-functional teams to create interactive dashboards for real-time data visualization between 2022 and 2025.\n",
      "\n",
      "- Proficient in advanced statistical analysis and machine learning techniques to derive actionable insights from complex datasets, driving data-driven decision-making within the organization.\n",
      "- Skilled in programming languages such as Python and R for data manipulation and visualization, with a proven track record of developing predictive models that optimize business processes and enhance performance.\n",
      "\n",
      "Amelia Gomes, a resident of The Peninsula in Tokyo, Japan, can be reached at ameliagomes@peninsula.com. Her address is 123 Sakura Street, Suite 456, Tokyo, Japan. You can contact her by phone at +81-12-3456-7890. Amelia Gomes is known for her warm personality and love for exploring the vibrant city of Tokyo.\n",
      "\n",
      "- Publication Title: \"Predictive Modeling of Customer Churn in Telecommunication Industry\"\n",
      "  Journal: International Journal of Data Science and Analytics\n",
      "  Year: 2008\n",
      "\n",
      "- Publication Title: \"Sentiment Analysis of Social Media Data Using Machine Learning Techniques\"\n",
      "  Conference: IEEE International Conference on Data Mining\n",
      "  Year: 2010\n",
      "\n",
      "- Publication Title: \"Anomaly Detection in Network Traffic Using Deep Learning Algorithms\"\n",
      "  Journal: ACM Transactions on Knowledge Discovery from Data\n",
      "  Year: 2012\n",
      "\n",
      "- Publication Title: \"Forecasting Stock Prices with Long Short-Term Memory Networks\"\n",
      "  Conference: Neural Information Processing Systems (NIPS)\n",
      "  Year: 2014\n",
      "\n",
      "- Publication Title: \"A Survey of Feature Selection Methods for High-Dimensional Data\"\n",
      "  Journal: Journal of Machine Learning Research\n",
      "  Year: 2016\n",
      "\n",
      "- Publication Title: \"Explainable AI: Interpretable Models for Decision Support Systems\"\n",
      "  Conference: AAAI Conference on Artificial Intelligence\n",
      "  Year: 2018\n",
      "{'pe': {'s': 'Amelia', 'e': ' of Tokyo.'}, 'ed': {'s': '', 'e': ''}, 'wo': {'s': '1', 'e': ' visualization between 2022 and 2025.'}, 'sk': {'s': '- Proficient', 'e': ' performance.'}}\n",
      "{'pe': {'s': 'Amelia', 'e': ' of Tokyo.'}, 'ed': {'s': '', 'e': ''}, 'wo': {'s': '1', 'e': ' 2025.'}, 'sk': {'s': '- Proficient', 'e': ' performance.'}}\n",
      "3\n",
      "- I enjoy mountain biking on weekends and exploring new trails in the great outdoors.\n",
      "- Cooking is a passion of mine, and I love experimenting with different recipes and cuisines.\n",
      "- Photography is another hobby that allows me to capture beautiful moments and scenes through my lens.\n",
      "- I am an avid reader and always have a book or two on my nightstand that I delve into before bed.\n",
      "- Traveling is a big part of my life, and I love immersing myself in different cultures and trying new foods.\n",
      "\n",
      "As a skilled Data Engineer, I possess a deep understanding of data modeling and database design, allowing me to create efficient and scalable data pipelines. My expertise in programming languages such as Python and SQL enables me to manipulate and analyze large datasets with precision and accuracy. With experience in cloud platforms like AWS and Google Cloud, I can deploy and manage data infrastructure effectively. Additionally, my strong problem-solving skills and attention to detail ensure that data processes are optimized for maximum performance.\n",
      "\n",
      "Data Engineer, 2021 - Present at TechCorp\n",
      "- Design and implement scalable data pipelines to process and analyze large volumes of structured and unstructured data.\n",
      "- Collaborate with cross-functional teams to optimize data storage and retrieval processes for improved efficiency.\n",
      "- Develop and maintain ETL processes to ensure data quality and integrity in a cloud-based environment.\n",
      "\n",
      "Intern Data Engineer, Summer 2020 at BigData Co.\n",
      "- Assisted senior engineers in building data ingestion pipelines using Apache Kafka and Spark.\n",
      "- Conducted performance testing and optimization on existing data processing workflows.\n",
      "- Contributed to the development of automated monitoring and alerting systems for real-time data processing.\n",
      "\n",
      "- Bachelor of Science in Computer Science, University of California, Berkeley, 2018\n",
      "- Master of Science in Data Engineering, Stanford University, 2021\n",
      "\n",
      "\n",
      "{'pe': {'s': '', 'e': ''}, 'ed': {'s': '- Bachelor', 'e': ', 2021'}, 'wo': {'s': 'Data Engineer, 2021', 'e': ' systems for real-time data processing.'}, 'sk': {'s': 'As', 'e': ' performance.'}}\n",
      "{'pe': {'s': '', 'e': ''}, 'ed': {'s': '- Bachelor', 'e': ', 2021'}, 'wo': {'s': 'Data Engineer, 2021', 'e': '-time data processing.'}, 'sk': {'s': 'As', 'e': ' performance.'}}\n",
      "4\n",
      "\n",
      "- Proficient in designing and implementing scalable data pipelines using tools such as Apache Spark and Kafka, with a strong focus on optimizing performance and reliability.\n",
      "- Skilled in building and maintaining data infrastructure on cloud platforms like AWS, leveraging services like S3, Redshift, and EMR to enable efficient data processing and analysis.\n",
      "- I enjoy mountain biking on weekends and exploring new trails in the great outdoors.\n",
      "- Cooking is a passion of mine, and I love experimenting with different recipes and cuisines.\n",
      "- Photography is another hobby that allows me to capture beautiful moments and scenes through my lens.\n",
      "- I am an avid reader and always have a book or two on my nightstand that I delve into before bed.\n",
      "- Traveling is a big part of my life, and I love immersing myself in different cultures and trying new foods.\n",
      "1. As a Data Engineer at TechData Solutions, I led the development of scalable data pipelines from 2014 to 2017, enabling real-time analytics for our clients in the e-commerce sector.\n",
      "\n",
      "2. At CloudWorks Innovations, I designed and implemented a cloud-based data lake architecture between 2018 and 2020, improving data accessibility and processing efficiency across multiple business units.\n",
      "\n",
      "3. From 2021 to present, as a Senior Data Engineer at Insightful Analytics Co., I have been instrumental in building machine learning models that drive personalized recommendations for our users, leveraging my expertise gained since graduating in 2012.\n",
      "{'pe': {'s': '', 'e': ''}, 'ed': {'s': '', 'e': ''}, 'wo': {'s': '1. As', 'e': ' 2012.'}, 'sk': {'s': '- Proficient', 'e': ' analysis.'}}\n",
      "{'pe': {'s': '', 'e': ''}, 'ed': {'s': '', 'e': ''}, 'wo': {'s': '1', 'e': ' 2012.'}, 'sk': {'s': '- Proficient', 'e': ' analysis.'}}\n",
      "5\n",
      "- Proficient in designing complex technical solutions that align with business objectives, leveraging a deep understanding of cloud technologies and architecture patterns.\n",
      "- Skilled at translating high-level requirements into detailed design specifications, ensuring scalability, reliability, and security of the solution.\n",
      "- Experienced in collaborating with cross-functional teams to drive successful implementation and delivery of projects within tight timelines.\n",
      "Caleb Gonçalves can be reached at caleb.goncalves@email.com for any inquiries. He resides at 123 Palm Avenue, Mumbai, India and his phone number is +91-9876543210. Caleb Gonçalves is a distinguished guest at The St. Regis in Mumbai, known for his impeccable taste and style.\n",
      "Solution Architect, 2014 - Present at Tech Solutions Inc.\n",
      "- Design and implement innovative solutions for clients in various industries to address their complex business challenges.\n",
      "- Collaborate with cross-functional teams to ensure the successful delivery of projects on time and within budget.\n",
      "- Provide technical expertise and guidance to stakeholders to optimize system performance and drive continuous improvement initiatives.\n",
      "I am a Solution Architect who enjoys skiing in the winter, painting landscapes during my free time, and playing the guitar to unwind after a long day at work.\n",
      "- Title: \"Enhancing Cloud Security Through Multi-Factor Authentication Mechanisms\"\n",
      "  Journal: International Journal of Information Security\n",
      "  Year: 2014\n",
      "\n",
      "- Title: \"Optimizing Data Storage Solutions for Scalable Applications in the Cloud Environment\"\n",
      "  Conference: IEEE International Conference on Cloud Computing\n",
      "  Year: 2015\n",
      "\n",
      "- Title: \"Integrating Blockchain Technology into Enterprise Solutions for Enhanced Data Integrity\"\n",
      "  Journal: Journal of Information Systems and Technology\n",
      "  Year: 2016\n",
      "\n",
      "- Title: \"Implementing Microservices Architecture for Agile Development in Large Enterprises\"\n",
      "  Conference: ACM Symposium on Software Engineering\n",
      "  Year: 2017\n",
      "\n",
      "- Title: \"Automating Infrastructure Deployment with DevOps Practices in Hybrid Cloud Environments\"\n",
      "  Journal: Journal of Cloud Computing\n",
      "  Year: 2018\n",
      "\n",
      "- Title: \"Ensuring Regulatory Compliance in Healthcare Systems Using Secure Solution Architectures\"\n",
      "  Conference: Health Informatics Conference\n",
      "  Year: 2019\n",
      "{'pe': {'s': 'Caleb', 'e': ' style.'}, 'ed': {'s': '', 'e': ''}, 'wo': {'s': 'Solution', 'e': ' timelines.'}, 'sk': {'s': '- Proficient', 'e': ' timelines.'}}\n",
      "{'pe': {'s': 'Caleb', 'e': ' style.'}, 'ed': {'s': '', 'e': ''}, 'wo': {'s': 'Solution', 'e': ' initiatives.'}, 'sk': {'s': '- Proficient', 'e': ' timelines.'}}\n",
      "6\n",
      "I enjoy mountain biking on weekends to stay active and explore nature. In addition, I have a passion for painting landscapes in my free time as a creative outlet that is completely unrelated to my work as a Data Scientist.\n",
      "- Mail: ava.schmidt@theraffles.com\n",
      "- Address: The Raffles, Anse Takamaka, Seychelles\n",
      "- Phone: +248 1234567\n",
      "- Name: Ava Schmidt\n",
      "- LinkedIn: linkedin.com/in/ava-schmidt\n",
      "Data Scientist, 2014 - 2016 at Google\n",
      "- Developed machine learning models to optimize search engine algorithms and improve user experience.\n",
      "- Collaborated with cross-functional teams to extract insights from large datasets and drive data-driven decision-making processes.\n",
      "A bachelor's degree in Computer Science from Universidad Complutense de Madrid in 2010 and a master's degree in Data Science from Universidad Politécnica de Madrid in 2014 were successfully completed.\n",
      "- Proficient in statistical analysis and machine learning techniques to derive insights from complex datasets\n",
      "- Skilled in data visualization tools such as Tableau and Power BI to communicate findings effectively to stakeholders\n",
      "- Experienced in programming languages like Python and R for data manipulation and model building\n",
      "- Strong background in experimental design and hypothesis testing to drive data-driven decision-making processes\n",
      "{'pe': {'s': '- Mail', 'e': '-schmidt'}, 'ed': {'s': 'A bachelor', 'e': ' completed.'}, 'wo': {'s': 'Data Scientist, 2014', 'e': ' processes.'}, 'sk': {'s': '- Proficient', 'e': ' processes.'}}\n",
      "{'pe': {'s': '- Mail', 'e': '-schmidt'}, 'ed': {'s': 'A bachelor', 'e': ' completed.'}, 'wo': {'s': 'Data Scientist, 2014', 'e': ' processes.'}, 'sk': {'s': '- Proficient', 'e': ' processes'}}\n",
      "7\n",
      "I am a Business Analyst who enjoys rock climbing in my free time, challenging myself to reach new heights. Additionally, I have a passion for photography, capturing moments and scenes that inspire me creatively.\n",
      "Business Analyst, 2019 - Present at XYZ Corporation\n",
      "- Conducted market research and data analysis to identify key trends and opportunities for business growth.\n",
      "- Collaborated with cross-functional teams to develop and implement strategies that improved operational efficiency and customer satisfaction.\n",
      "\n",
      "Intern Business Analyst, Summer 2018 at ABC Consulting Firm\n",
      "- Assisted senior analysts in gathering and analyzing data to support client projects and recommendations.\n",
      "- Prepared reports and presentations for clients, summarizing findings and providing actionable insights for decision-making.\n",
      "The individual began publishing academic research in the field of business analysis in 2019, contributing valuable insights and knowledge to the scholarly community. Their publications demonstrate a deep understanding of data analysis and decision-making processes within various business contexts.\n",
      "\n",
      "A bachelor's degree in Business Administration from the University of California, Berkeley in 2016 and a master's degree in Business Analytics from Stanford University in 2019 were successfully completed.\n",
      "Experienced Business Analyst with a proven track record of driving strategic decision-making through data analysis and market research. Skilled in translating complex business requirements into actionable insights to optimize processes and enhance overall performance.\n",
      "{'pe': {'s': '', 'e': ''}, 'ed': {'s': 'A bachelor', 'e': ' completed.'}, 'wo': {'s': 'Business', 'e': '-making.'}, 'sk': {'s': 'Experienced', 'e': ' performance.'}}\n",
      "{'pe': {'s': '', 'e': ''}, 'ed': {'s': 'A bachelor', 'e': ' completed.'}, 'wo': {'s': 'Business Analyst, 2019', 'e': '-making.'}, 'sk': {'s': 'Experienced', 'e': ' performance.'}}\n",
      "8\n",
      "- Mail: charlotte.cunha@peninsula.com\n",
      "- Address: The Peninsula, 19 Avenue Kléber, 75116 Paris, France\n",
      "- Phone: +33 1 58 12 28 88\n",
      "- Name: Charlotte Cunha\n",
      "- LinkedIn: linkedin.com/in/charlotte-cunha\n",
      "\n",
      "- Proficient in conducting thorough data analysis and translating complex information into actionable insights to drive strategic decision-making within the organization.\n",
      "- Skilled in identifying key business trends, opportunities for improvement, and developing innovative solutions to enhance operational efficiency and achieve business objectives.\n",
      "\n",
      "- I enjoy swimming in my free time to stay active and relax.\n",
      "- I have a passion for photography and love capturing beautiful moments.\n",
      "- Cooking is one of my favorite hobbies, and I often experiment with new recipes.\n",
      "- Gardening is a therapeutic activity for me, and I take pride in tending to my plants.\n",
      "- Traveling is a big part of my life, and I love exploring new cultures and cuisines.\n",
      "- Reading is a hobby that helps me unwind and expand my knowledge on various topics.\n",
      "\n",
      "\n",
      "\n",
      "- Master's in Business Administration, INSEAD, 2008\n",
      "- Bachelor's in Economics, Université Paris-Dauphine, 2006\n",
      "- Certification in Data Analysis, Ecole Polytechnique, 2007\n",
      "\n",
      "Business Analyst, 2008 - 2012 at IBM\n",
      "- Conducted market research and data analysis to identify key trends and opportunities for business growth.\n",
      "- Collaborated with cross-functional teams to develop strategic plans and recommendations based on analytical insights.\n",
      "- Presented findings and recommendations to senior management to drive informed decision-making.\n",
      "\n",
      "Senior Business Analyst, 2012 - 2016 at Microsoft\n",
      "- Led a team of analysts in conducting complex data modeling and forecasting to support product development initiatives.\n",
      "- Implemented process improvements and automation tools to streamline data collection and analysis procedures.\n",
      "- Worked closely with stakeholders to define project requirements and ensure alignment with business objectives.\n",
      "{'pe': {'s': '- Mail', 'e': '-cunha'}, 'ed': {'s': '- Master', 'e': ', 2007'}, 'wo': {'s': 'Business', 'e': ' objectives.'}, 'sk': {'s': '- Proficient', 'e': ' objectives.'}}\n",
      "{'pe': {'s': '- Mail', 'e': '-cunha'}, 'ed': {'s': '- Master', 'e': ', 2007'}, 'wo': {'s': 'Business Analyst', 'e': ' objectives.'}, 'sk': {'s': '- Proficient', 'e': ' objectives.'}}\n",
      "9\n"
     ]
    }
   ],
   "source": [
    "sum = 0\n",
    "for i in range(len(labels)):\n",
    "    if preds[i] != labels[i]:\n",
    "        print(val_data[\"overall\"][i])\n",
    "        print(preds[i])\n",
    "        print(labels[i])\n",
    "        sum += 1\n",
    "        print(sum)"
   ]
  },
  {
   "cell_type": "code",
   "execution_count": 20,
   "id": "80580fec-8c4c-4be5-89aa-85c03bd999d8",
   "metadata": {
    "tags": []
   },
   "outputs": [],
   "source": [
    "texts = val_data[\"overall\"]\n",
    "labels = val_data[\"output\"]"
   ]
  },
  {
   "cell_type": "code",
   "execution_count": 25,
   "id": "d126dd93-4be6-45f3-a9de-e5463eb98d04",
   "metadata": {
    "tags": []
   },
   "outputs": [
    {
     "data": {
      "text/plain": [
       "\"{'pe': {'s': 'Penelope', 'e': ' reservations.'}, 'ed': {'s': '- Master', 'e': ', 2018'}, 'wo': {'s': '\\\\nAssociate', 'e': ' supervision.'}, 'sk': {'s': '- Proficient', 'e': ' precision.'}}\""
      ]
     },
     "execution_count": 25,
     "metadata": {},
     "output_type": "execute_result"
    }
   ],
   "source": [
    "labels[27]"
   ]
  },
  {
   "cell_type": "code",
   "execution_count": 26,
   "id": "e08c3137-7159-4bd8-9a0b-f93f68a7f676",
   "metadata": {
    "tags": []
   },
   "outputs": [],
   "source": [
    "preds_filtered = [pred for idx, pred in enumerate(preds) if pred != labels[idx]]\n",
    "labels_filtered = [label for idx, label in enumerate(labels) if label != preds[idx]]\n",
    "texts_filtered = [txt for idx, txt in enumerate(texts) if preds[idx] != labels[idx]]"
   ]
  },
  {
   "cell_type": "code",
   "execution_count": 27,
   "id": "e72b0fef-c568-4c36-a628-12b69952859a",
   "metadata": {
    "tags": []
   },
   "outputs": [
    {
     "data": {
      "text/plain": [
       "\"{'pe': {'s': 'Caleb', 'e': ' style.'}, 'ed': {'s': '', 'e': ''}, 'wo': {'s': 'Solution', 'e': ' initiatives.'}, 'sk': {'s': '- Proficient', 'e': ' timelines.'}}\""
      ]
     },
     "execution_count": 27,
     "metadata": {},
     "output_type": "execute_result"
    }
   ],
   "source": [
    "labels_filtered[5]"
   ]
  },
  {
   "cell_type": "code",
   "execution_count": 28,
   "id": "9866e2a5-4aaa-4eb8-9687-99dd5d0271c7",
   "metadata": {
    "tags": []
   },
   "outputs": [
    {
     "data": {
      "text/plain": [
       "\"{'pe': {'s': 'Caleb', 'e': ' style.'}, 'ed': {'s': '', 'e': ''}, 'wo': {'s': 'Solution', 'e': ' timelines.'}, 'sk': {'s': '- Proficient', 'e': ' timelines.'}}\""
      ]
     },
     "execution_count": 28,
     "metadata": {},
     "output_type": "execute_result"
    }
   ],
   "source": [
    "preds_filtered[5]"
   ]
  },
  {
   "cell_type": "code",
   "execution_count": 29,
   "id": "3ad6516a-43b7-40df-92c2-91036d7af493",
   "metadata": {
    "tags": []
   },
   "outputs": [
    {
     "data": {
      "text/plain": [
       "'- Proficient in designing complex technical solutions that align with business objectives, leveraging a deep understanding of cloud technologies and architecture patterns.\\n- Skilled at translating high-level requirements into detailed design specifications, ensuring scalability, reliability, and security of the solution.\\n- Experienced in collaborating with cross-functional teams to drive successful implementation and delivery of projects within tight timelines.\\nCaleb Gonçalves can be reached at caleb.goncalves@email.com for any inquiries. He resides at 123 Palm Avenue, Mumbai, India and his phone number is +91-9876543210. Caleb Gonçalves is a distinguished guest at The St. Regis in Mumbai, known for his impeccable taste and style.\\nSolution Architect, 2014 - Present at Tech Solutions Inc.\\n- Design and implement innovative solutions for clients in various industries to address their complex business challenges.\\n- Collaborate with cross-functional teams to ensure the successful delivery of projects on time and within budget.\\n- Provide technical expertise and guidance to stakeholders to optimize system performance and drive continuous improvement initiatives.\\nI am a Solution Architect who enjoys skiing in the winter, painting landscapes during my free time, and playing the guitar to unwind after a long day at work.\\n- Title: \"Enhancing Cloud Security Through Multi-Factor Authentication Mechanisms\"\\n  Journal: International Journal of Information Security\\n  Year: 2014\\n\\n- Title: \"Optimizing Data Storage Solutions for Scalable Applications in the Cloud Environment\"\\n  Conference: IEEE International Conference on Cloud Computing\\n  Year: 2015\\n\\n- Title: \"Integrating Blockchain Technology into Enterprise Solutions for Enhanced Data Integrity\"\\n  Journal: Journal of Information Systems and Technology\\n  Year: 2016\\n\\n- Title: \"Implementing Microservices Architecture for Agile Development in Large Enterprises\"\\n  Conference: ACM Symposium on Software Engineering\\n  Year: 2017\\n\\n- Title: \"Automating Infrastructure Deployment with DevOps Practices in Hybrid Cloud Environments\"\\n  Journal: Journal of Cloud Computing\\n  Year: 2018\\n\\n- Title: \"Ensuring Regulatory Compliance in Healthcare Systems Using Secure Solution Architectures\"\\n  Conference: Health Informatics Conference\\n  Year: 2019'"
      ]
     },
     "execution_count": 29,
     "metadata": {},
     "output_type": "execute_result"
    }
   ],
   "source": [
    "texts_filtered[5]"
   ]
  },
  {
   "cell_type": "code",
   "execution_count": null,
   "id": "6fb84e4a-4d98-4ce0-a7ac-48bba5b9ecb1",
   "metadata": {
    "tags": []
   },
   "outputs": [],
   "source": [
    "token_dataset = compute_argilla_entities(preds, labels, texts, \"LLM_Textmarker_mistral_7B_02_JsonFormer\")"
   ]
  },
  {
   "cell_type": "code",
   "execution_count": null,
   "id": "6a2a6f14-5ccb-45fd-bc54-b8481bcf8ec2",
   "metadata": {
    "tags": []
   },
   "outputs": [],
   "source": [
    "for record in token_dataset:\n",
    "    rg.log(record, name=\"llm_textmarker_with_preds\")"
   ]
  },
  {
   "cell_type": "code",
   "execution_count": 255,
   "id": "84a028b9-c53a-4b98-8e76-7276f2b38f2e",
   "metadata": {
    "tags": []
   },
   "outputs": [],
   "source": [
    "# Load the dataset\n",
    "dataset = rg.load(name=\"llm_textmarker\", workspace=\"admin\")"
   ]
  },
  {
   "cell_type": "code",
   "execution_count": 74,
   "id": "fdc953a3-b2c7-439d-adbe-b2f44aebe08e",
   "metadata": {
    "tags": []
   },
   "outputs": [
    {
     "data": {
      "text/plain": [
       "(100, 100)"
      ]
     },
     "execution_count": 74,
     "metadata": {},
     "output_type": "execute_result"
    }
   ],
   "source": [
    "rg.delete_records(name=\"llm_textmarker_with_preds\")"
   ]
  }
 ],
 "metadata": {
  "kernelspec": {
   "display_name": "conda_tensorflow2_p310",
   "language": "python",
   "name": "conda_tensorflow2_p310"
  },
  "language_info": {
   "codemirror_mode": {
    "name": "ipython",
    "version": 3
   },
   "file_extension": ".py",
   "mimetype": "text/x-python",
   "name": "python",
   "nbconvert_exporter": "python",
   "pygments_lexer": "ipython3",
   "version": "3.10.14"
  }
 },
 "nbformat": 4,
 "nbformat_minor": 5
}
