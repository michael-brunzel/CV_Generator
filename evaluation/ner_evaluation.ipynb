{
 "cells": [
  {
   "cell_type": "code",
   "execution_count": null,
   "id": "f7a76662-0204-4ad8-a6f0-4e3712f6e5e4",
   "metadata": {
    "tags": []
   },
   "outputs": [],
   "source": [
    "%pip install -r ./evaluation/eval_requirements.txt"
   ]
  },
  {
   "cell_type": "code",
   "execution_count": 11,
   "id": "d6387cdc-f4f8-4304-89e5-1bf773adee8e",
   "metadata": {
    "tags": []
   },
   "outputs": [],
   "source": [
    "# Perform an NER evaluation for the LLM Textmarker"
   ]
  },
  {
   "cell_type": "code",
   "execution_count": 12,
   "id": "4037059a-34bc-4e51-9942-c0d539fa0115",
   "metadata": {
    "tags": []
   },
   "outputs": [],
   "source": [
    "from datasets import load_dataset\n",
    "\n",
    "# dataset used\n",
    "data_path = 'MichaelAI23/English_CVs'\n",
    "\n",
    "data = load_dataset(data_path)\n",
    "data[\"train\"]\n",
    "\n",
    "train_val = data[\"train\"].train_test_split(\n",
    "    test_size=100, shuffle=True, seed=42\n",
    ")\n",
    "train_data = train_val[\"train\"]\n",
    "val_data = train_val[\"test\"]\n",
    "\n",
    "labels = val_data[\"output\"]"
   ]
  },
  {
   "cell_type": "code",
   "execution_count": 14,
   "id": "13e0887b-9da8-4aea-95f2-dd732b0a68ca",
   "metadata": {
    "tags": []
   },
   "outputs": [],
   "source": [
    "import json\n",
    "with open(f\"textmarker_predictions.json\", \"r\", encoding=\"utf-8\") as fp:\n",
    "    predictions = json.load(fp)[\"model_preds\"]\n",
    "\n",
    "predictions = list(predictions.values())\n",
    "predictions = [pred[0][\"generated_text\"] for pred in predictions]"
   ]
  },
  {
   "cell_type": "code",
   "execution_count": 15,
   "id": "35c632bb-f065-4b43-ba2b-9229b4066ad4",
   "metadata": {
    "tags": []
   },
   "outputs": [
    {
     "data": {
      "text/plain": [
       "[\"{'pe': {'s': 'Michael', 'e': ' hotel.'}, 'ed': {'s': '', 'e': ''}, 'wo': {'s': 'As', 'e': ' efficiency.'}, 'sk': {'s': 'Experienced', 'e': ' growth.'}}\",\n",
       " \"{'pe': {'s': 'Caleb', 'e': ' style.'}, 'ed': {'s': '- Bachelor', 'e': ', 2008'}, 'wo': {'s': '1. As', 'e': ' 2022.'}, 'sk': {'s': 'Experienced', 'e': ' lifecycle.'}}\",\n",
       " \"{'pe': {'s': '', 'e': ''}, 'ed': {'s': 'A', 'e': ' completed.'}, 'wo': {'s': '', 'e': ''}, 'sk': {'s': '- Proficient', 'e': ' retention.'}}\",\n",
       " \"{'pe': {'s': 'Grace', 'e': ' in Los Cabos.'}, 'ed': {'s': 'A', 'e': ' completed.'}, 'wo': {'s': '', 'e': ''}, 'sk': {'s': '- Proficient', 'e': ' precision.'}}\",\n",
       " \"{'pe': {'s': 'Jose', 'e': '-9876543210.'}, 'ed': {'s': '- Bachelor', 'e': ', 2020'}, 'wo': {'s': 'Solution Architect', 'e': ' projects'}, 'sk': {'s': '- Proficient', 'e': ' success.'}}\",\n",
       " \"{'pe': {'s': '- Mail', 'e': '/gracerocha'}, 'ed': {'s': '- Master', 'e': ', 2009'}, 'wo': {'s': '', 'e': ''}, 'sk': {'s': '- Proficient', 'e': ' organizations.'}}\",\n",
       " \"{'pe': {'s': '', 'e': ''}, 'ed': {'s': '- Bachelor', 'e': ', 2020'}, 'wo': {'s': '', 'e': ''}, 'sk': {'s': 'As', 'e': ' seamlessly.'}}\",\n",
       " \"{'pe': {'s': '- Mail', 'e': '-schmidt'}, 'ed': {'s': 'A', 'e': ' completed.'}, 'wo': {'s': 'Business Analyst', 'e': ' leadership.'}, 'sk': {'s': 'Experienced', 'e': ' collaboration.'}}\",\n",
       " \"{'pe': {'s': '- Mail', 'e': '/stellathompson'}, 'ed': {'s': '', 'e': ''}, 'wo': {'s': '', 'e': ''}, 'sk': {'s': 'With', 'e': ' every case.'}}\",\n",
       " \"{'pe': {'s': 'Amelia', 'e': ' of Tokyo.'}, 'ed': {'s': '', 'e': ''}, 'wo': {'s': '1', 'e': ' 2025.'}, 'sk': {'s': '- Proficient', 'e': ' performance.'}}\"]"
      ]
     },
     "execution_count": 15,
     "metadata": {},
     "output_type": "execute_result"
    }
   ],
   "source": [
    "labels[:10]"
   ]
  },
  {
   "cell_type": "code",
   "execution_count": 16,
   "id": "225f018f-15e6-4eaf-94a3-a4eed4d0c205",
   "metadata": {
    "tags": []
   },
   "outputs": [
    {
     "data": {
      "text/plain": [
       "[\"{'pe': {'s': 'Michael', 'e': ' hotel.'}, 'ed': {'s': '', 'e': ''}, 'wo': {'s': 'As', 'e': ' efficiency.'}, 'sk': {'s': 'Experienced', 'e': ' growth.'}}\",\n",
       " \"{'pe': {'s': 'Caleb', 'e': ' style.'}, 'ed': {'s': '- Bachelor', 'e': ', 2008'}, 'wo': {'s': '1. As', 'e': ' 2022.'}, 'sk': {'s': 'Experienced', 'e': ' lifecycle.'}}\",\n",
       " \"{'pe': {'s': '', 'e': ''}, 'ed': {'s': 'A', 'e': ' completed.'}, 'wo': {'s': '', 'e': ''}, 'sk': {'s': '- Proficient', 'e': ' retention.'}}\",\n",
       " \"{'pe': {'s': 'Grace', 'e': ' in Los Cabos.'}, 'ed': {'s': 'A', 'e': ' completed.'}, 'wo': {'s': '', 'e': ''}, 'sk': {'s': '- Proficient', 'e': ' precision.'}}\",\n",
       " \"{'pe': {'s': 'Jose', 'e': '-9876543210.'}, 'ed': {'s': '- Bachelor', 'e': ', 2020'}, 'wo': {'s': 'Solution', 'e': ' projects'}, 'sk': {'s': '- Proficient', 'e': ' success.'}}\",\n",
       " \"{'pe': {'s': '- Mail', 'e': '/gracerocha'}, 'ed': {'s': '- Master', 'e': ', 2009'}, 'wo': {'s': '', 'e': ''}, 'sk': {'s': '- Proficient', 'e': ' organizations.'}}\",\n",
       " \"{'pe': {'s': '', 'e': ''}, 'ed': {'s': '- Bachelor', 'e': ', 2020'}, 'wo': {'s': '', 'e': ''}, 'sk': {'s': 'As', 'e': ' seamlessly.'}}\",\n",
       " \"{'pe': {'s': '- Mail', 'e': '-schmidt'}, 'ed': {'s': 'A bachelor', 'e': ' completed.'}, 'wo': {'s': 'Business Analyst', 'e': ' leadership.'}, 'sk': {'s': 'Experienced', 'e': ' collaboration.'}}\",\n",
       " \"{'pe': {'s': '- Mail', 'e': '/stellathompson'}, 'ed': {'s': '', 'e': ''}, 'wo': {'s': '', 'e': ''}, 'sk': {'s': 'With', 'e': ' every case.'}}\",\n",
       " \"{'pe': {'s': 'Amelia', 'e': ' of Tokyo.'}, 'ed': {'s': '', 'e': ''}, 'wo': {'s': '1', 'e': ' visualization between 2022 and 2025.'}, 'sk': {'s': '- Proficient', 'e': ' performance.'}}\"]"
      ]
     },
     "execution_count": 16,
     "metadata": {},
     "output_type": "execute_result"
    }
   ],
   "source": [
    "predictions[:10]"
   ]
  },
  {
   "cell_type": "code",
   "execution_count": 27,
   "id": "a8a2ede4-34f2-4eb0-bfbf-aae19ed8eec6",
   "metadata": {
    "tags": []
   },
   "outputs": [],
   "source": [
    "from evaluation.utils import compute_sequences"
   ]
  },
  {
   "cell_type": "code",
   "execution_count": null,
   "id": "8edc3987-8c83-43d5-ba34-0134f28a6f3f",
   "metadata": {
    "tags": []
   },
   "outputs": [],
   "source": [
    "import argilla as rg\n",
    "import json\n",
    "import re\n",
    "import os\n",
    "from dotenv import load_dotenv\n",
    "load_dotenv()\n",
    "api_url = os.getenv(\"ARGILLA_API_URL\")\n",
    "\n",
    "rg.init(\n",
    "    api_url=api_url,\n",
    "    api_key=os.getenv(\"ARGILLA_API_KEY\"),\n",
    "    workspace=\"admin\"\n",
    ")\n",
    "\n",
    "# Load the dataset\n",
    "dataset = rg.load(name=\"llm_textmarker_with_preds\", workspace=\"admin\")"
   ]
  },
  {
   "cell_type": "code",
   "execution_count": null,
   "id": "dacc6368-0951-4c32-89d7-235eed33a4ba",
   "metadata": {
    "tags": []
   },
   "outputs": [],
   "source": [
    "dataset[0].text"
   ]
  },
  {
   "cell_type": "code",
   "execution_count": null,
   "id": "8423ad59-f764-437e-ae72-4c77bd200b6f",
   "metadata": {
    "tags": []
   },
   "outputs": [],
   "source": [
    "import evaluate\n",
    "# Use the seqeval metric and compute the confusion matrix afterwards (locally and globally)\n",
    "seqeval = evaluate.load('seqeval')"
   ]
  },
  {
   "cell_type": "code",
   "execution_count": 55,
   "id": "1b6f6010-3926-4b01-a09a-ca95ba074844",
   "metadata": {
    "tags": []
   },
   "outputs": [],
   "source": [
    "references, predictions,  prediction_triples, label_triples = compute_sequences(dataset)"
   ]
  },
  {
   "cell_type": "code",
   "execution_count": 60,
   "id": "05b1883c-dd1d-4376-b087-f40ca137d6e8",
   "metadata": {
    "tags": []
   },
   "outputs": [],
   "source": [
    "filtered_txts = [dataset[idx].text for idx, (ref, pred) in enumerate(zip(references, predictions)) if ref != pred]"
   ]
  },
  {
   "cell_type": "code",
   "execution_count": 61,
   "id": "194790e6-b4ec-4914-8462-032cf7af2ef7",
   "metadata": {
    "tags": []
   },
   "outputs": [
    {
     "data": {
      "text/plain": [
       "5"
      ]
     },
     "execution_count": 61,
     "metadata": {},
     "output_type": "execute_result"
    }
   ],
   "source": [
    "len(filtered_txts)"
   ]
  },
  {
   "cell_type": "code",
   "execution_count": 62,
   "id": "ea92fac7-7f14-4b90-98fe-7e19f6e28621",
   "metadata": {
    "tags": []
   },
   "outputs": [
    {
     "data": {
      "text/plain": [
       "[\"I am a Business Analyst who enjoys rock climbing in my free time, challenging myself to reach new heights. Additionally, I have a passion for photography, capturing moments and scenes that inspire me creatively.\\nBusiness Analyst, 2019 - Present at XYZ Corporation\\n- Conducted market research and data analysis to identify key trends and opportunities for business growth.\\n- Collaborated with cross-functional teams to develop and implement strategies that improved operational efficiency and customer satisfaction.\\n\\nIntern Business Analyst, Summer 2018 at ABC Consulting Firm\\n- Assisted senior analysts in gathering and analyzing data to support client projects and recommendations.\\n- Prepared reports and presentations for clients, summarizing findings and providing actionable insights for decision-making.\\nThe individual began publishing academic research in the field of business analysis in 2019, contributing valuable insights and knowledge to the scholarly community. Their publications demonstrate a deep understanding of data analysis and decision-making processes within various business contexts.\\n\\nA bachelor's degree in Business Administration from the University of California, Berkeley in 2016 and a master's degree in Business Analytics from Stanford University in 2019 were successfully completed.\\nExperienced Business Analyst with a proven track record of driving strategic decision-making through data analysis and market research. Skilled in translating complex business requirements into actionable insights to optimize processes and enhance overall performance.\",\n",
       " '- Proficient in designing complex technical solutions that align with business objectives and requirements, demonstrating a deep understanding of architecture principles and best practices.\\n- Skilled in translating high-level business strategies into detailed technical designs, ensuring scalability, security, and performance are considered at every stage of the solution development process.\\n- Experienced in leading cross-functional teams and collaborating with stakeholders to drive consensus on architectural decisions, fostering a culture of innovation and continuous improvement.\\n- Proven ability to communicate effectively with both technical and non-technical audiences, presenting complex ideas in a clear and concise manner to facilitate decision-making and project success.\\n- Co-authored a research paper on \"Optimizing Cloud Solutions for Scalability\" published in the International Journal of Cloud Computing in 2020.\\n- Presented findings on \"Integration Strategies for Enterprise Systems\" at the IEEE Conference on Software Architecture in 2021.\\n- Contributed to a chapter on \"Emerging Trends in Digital Transformation\" in a book titled \"Innovations in Information Technology\" released in 2022.\\n- Published an article on \"Security Considerations in IoT Architectures\" in the Journal of Internet of Things Research in 2023.\\nJose Cruz can be reached at jose.cruz@example.com. He resides at 123 Lakeview Drive, Udaipur, India. For any inquiries, he can be contacted at +91-9876543210.\\nSolution Architect, 2020 - Present at Tech Solutions Inc.\\n- Design and implement end-to-end solutions for clients in various industries\\n- Collaborate with cross-functional teams to ensure successful delivery of projects\\nI enjoy mountain biking on weekends to stay active and explore nature. In addition, I have a passion for photography and love capturing beautiful moments in landscapes and portraits. Furthermore, I find relaxation in playing the guitar and creating music in my free time.\\n- Bachelor of Science in Computer Science, KTH Royal Institute of Technology, Stockholm, Sweden, 2017\\n- Master of Science in Information Systems, Lund University, Lund, Sweden, 2019\\n- Certified Solution Architect, Swedish Association of IT Professionals, 2020',\n",
       " '- Proficient in designing complex technical solutions that align with business objectives, leveraging a deep understanding of cloud technologies and architecture patterns.\\n- Skilled at translating high-level requirements into detailed design specifications, ensuring scalability, reliability, and security of the solution.\\n- Experienced in collaborating with cross-functional teams to drive successful implementation and delivery of projects within tight timelines.\\nCaleb Gonçalves can be reached at caleb.goncalves@email.com for any inquiries. He resides at 123 Palm Avenue, Mumbai, India and his phone number is +91-9876543210. Caleb Gonçalves is a distinguished guest at The St. Regis in Mumbai, known for his impeccable taste and style.\\nSolution Architect, 2014 - Present at Tech Solutions Inc.\\n- Design and implement innovative solutions for clients in various industries to address their complex business challenges.\\n- Collaborate with cross-functional teams to ensure the successful delivery of projects on time and within budget.\\n- Provide technical expertise and guidance to stakeholders to optimize system performance and drive continuous improvement initiatives.\\nI am a Solution Architect who enjoys skiing in the winter, painting landscapes during my free time, and playing the guitar to unwind after a long day at work.\\n- Title: \"Enhancing Cloud Security Through Multi-Factor Authentication Mechanisms\"\\n  Journal: International Journal of Information Security\\n  Year: 2014\\n\\n- Title: \"Optimizing Data Storage Solutions for Scalable Applications in the Cloud Environment\"\\n  Conference: IEEE International Conference on Cloud Computing\\n  Year: 2015\\n\\n- Title: \"Integrating Blockchain Technology into Enterprise Solutions for Enhanced Data Integrity\"\\n  Journal: Journal of Information Systems and Technology\\n  Year: 2016\\n\\n- Title: \"Implementing Microservices Architecture for Agile Development in Large Enterprises\"\\n  Conference: ACM Symposium on Software Engineering\\n  Year: 2017\\n\\n- Title: \"Automating Infrastructure Deployment with DevOps Practices in Hybrid Cloud Environments\"\\n  Journal: Journal of Cloud Computing\\n  Year: 2018\\n\\n- Title: \"Ensuring Regulatory Compliance in Healthcare Systems Using Secure Solution Architectures\"\\n  Conference: Health Informatics Conference\\n  Year: 2019',\n",
       " \"I enjoy mountain biking on weekends to stay active and explore nature. In addition, I have a passion for painting landscapes in my free time as a creative outlet that is completely unrelated to my work as a Data Scientist.\\n- Mail: ava.schmidt@theraffles.com\\n- Address: The Raffles, Anse Takamaka, Seychelles\\n- Phone: +248 1234567\\n- Name: Ava Schmidt\\n- LinkedIn: linkedin.com/in/ava-schmidt\\nData Scientist, 2014 - 2016 at Google\\n- Developed machine learning models to optimize search engine algorithms and improve user experience.\\n- Collaborated with cross-functional teams to extract insights from large datasets and drive data-driven decision-making processes.\\nA bachelor's degree in Computer Science from Universidad Complutense de Madrid in 2010 and a master's degree in Data Science from Universidad Politécnica de Madrid in 2014 were successfully completed.\\n- Proficient in statistical analysis and machine learning techniques to derive insights from complex datasets\\n- Skilled in data visualization tools such as Tableau and Power BI to communicate findings effectively to stakeholders\\n- Experienced in programming languages like Python and R for data manipulation and model building\\n- Strong background in experimental design and hypothesis testing to drive data-driven decision-making processes\",\n",
       " \"- Mail: charlotte.cunha@peninsula.com\\n- Address: The Peninsula, 19 Avenue Kléber, 75116 Paris, France\\n- Phone: +33 1 58 12 28 88\\n- Name: Charlotte Cunha\\n- LinkedIn: linkedin.com/in/charlotte-cunha\\n\\n- Proficient in conducting thorough data analysis and translating complex information into actionable insights to drive strategic decision-making within the organization.\\n- Skilled in identifying key business trends, opportunities for improvement, and developing innovative solutions to enhance operational efficiency and achieve business objectives.\\n\\n- I enjoy swimming in my free time to stay active and relax.\\n- I have a passion for photography and love capturing beautiful moments.\\n- Cooking is one of my favorite hobbies, and I often experiment with new recipes.\\n- Gardening is a therapeutic activity for me, and I take pride in tending to my plants.\\n- Traveling is a big part of my life, and I love exploring new cultures and cuisines.\\n- Reading is a hobby that helps me unwind and expand my knowledge on various topics.\\n\\n\\n\\n- Master's in Business Administration, INSEAD, 2008\\n- Bachelor's in Economics, Université Paris-Dauphine, 2006\\n- Certification in Data Analysis, Ecole Polytechnique, 2007\\n\\nBusiness Analyst, 2008 - 2012 at IBM\\n- Conducted market research and data analysis to identify key trends and opportunities for business growth.\\n- Collaborated with cross-functional teams to develop strategic plans and recommendations based on analytical insights.\\n- Presented findings and recommendations to senior management to drive informed decision-making.\\n\\nSenior Business Analyst, 2012 - 2016 at Microsoft\\n- Led a team of analysts in conducting complex data modeling and forecasting to support product development initiatives.\\n- Implemented process improvements and automation tools to streamline data collection and analysis procedures.\\n- Worked closely with stakeholders to define project requirements and ensure alignment with business objectives.\"]"
      ]
     },
     "execution_count": 62,
     "metadata": {},
     "output_type": "execute_result"
    }
   ],
   "source": [
    "filtered_txts"
   ]
  },
  {
   "cell_type": "code",
   "execution_count": 40,
   "id": "2abde4c7-3d00-4ee0-8d68-68caa10b6ced",
   "metadata": {
    "tags": []
   },
   "outputs": [
    {
     "data": {
      "text/plain": [
       "230"
      ]
     },
     "execution_count": 40,
     "metadata": {},
     "output_type": "execute_result"
    }
   ],
   "source": [
    "len(references[12])"
   ]
  },
  {
   "cell_type": "code",
   "execution_count": 41,
   "id": "7aaff0be-99cb-43aa-b4d8-2996ab81a15d",
   "metadata": {
    "tags": []
   },
   "outputs": [
    {
     "data": {
      "text/plain": [
       "230"
      ]
     },
     "execution_count": 41,
     "metadata": {},
     "output_type": "execute_result"
    }
   ],
   "source": [
    "len(predictions[12])"
   ]
  },
  {
   "cell_type": "code",
   "execution_count": 63,
   "id": "2b7d3522-66d6-41a5-8328-83fc37338c70",
   "metadata": {
    "tags": []
   },
   "outputs": [
    {
     "name": "stderr",
     "output_type": "stream",
     "text": [
      "/home/ec2-user/anaconda3/envs/python3/lib/python3.10/site-packages/seqeval/metrics/sequence_labeling.py:171: UserWarning: ed seems not to be NE tag.\n",
      "  warnings.warn('{} seems not to be NE tag.'.format(chunk))\n",
      "/home/ec2-user/anaconda3/envs/python3/lib/python3.10/site-packages/seqeval/metrics/sequence_labeling.py:171: UserWarning: pe seems not to be NE tag.\n",
      "  warnings.warn('{} seems not to be NE tag.'.format(chunk))\n",
      "/home/ec2-user/anaconda3/envs/python3/lib/python3.10/site-packages/seqeval/metrics/sequence_labeling.py:171: UserWarning: sk seems not to be NE tag.\n",
      "  warnings.warn('{} seems not to be NE tag.'.format(chunk))\n",
      "/home/ec2-user/anaconda3/envs/python3/lib/python3.10/site-packages/seqeval/metrics/sequence_labeling.py:171: UserWarning: none seems not to be NE tag.\n",
      "  warnings.warn('{} seems not to be NE tag.'.format(chunk))\n",
      "/home/ec2-user/anaconda3/envs/python3/lib/python3.10/site-packages/seqeval/metrics/sequence_labeling.py:171: UserWarning: wo seems not to be NE tag.\n",
      "  warnings.warn('{} seems not to be NE tag.'.format(chunk))\n"
     ]
    }
   ],
   "source": [
    "results = seqeval.compute(predictions=predictions, references=references)"
   ]
  },
  {
   "cell_type": "code",
   "execution_count": 64,
   "id": "2bce0baa-059a-44ad-9832-c4e370704f0c",
   "metadata": {
    "tags": []
   },
   "outputs": [
    {
     "data": {
      "text/plain": [
       "{'d': {'precision': 0.9868421052631579,\n",
       "  'recall': 0.9868421052631579,\n",
       "  'f1': 0.9868421052631579,\n",
       "  'number': 76},\n",
       " 'e': {'precision': 1.0, 'recall': 1.0, 'f1': 1.0, 'number': 86},\n",
       " 'k': {'precision': 1.0,\n",
       "  'recall': 0.989247311827957,\n",
       "  'f1': 0.9945945945945946,\n",
       "  'number': 93},\n",
       " 'o': {'precision': 0.9605263157894737,\n",
       "  'recall': 0.9605263157894737,\n",
       "  'f1': 0.9605263157894737,\n",
       "  'number': 76},\n",
       " 'one': {'precision': 0.9661016949152542,\n",
       "  'recall': 0.9743589743589743,\n",
       "  'f1': 0.9702127659574468,\n",
       "  'number': 117},\n",
       " 'overall_precision': 0.9821428571428571,\n",
       " 'overall_recall': 0.9821428571428571,\n",
       " 'overall_f1': 0.9821428571428571,\n",
       " 'overall_accuracy': 0.9906907819743141}"
      ]
     },
     "execution_count": 64,
     "metadata": {},
     "output_type": "execute_result"
    }
   ],
   "source": [
    "results"
   ]
  },
  {
   "cell_type": "code",
   "execution_count": 82,
   "id": "0a381e86-5bb8-4907-8685-586d416f75e1",
   "metadata": {
    "tags": []
   },
   "outputs": [
    {
     "name": "stdout",
     "output_type": "stream",
     "text": [
      "[[2693    0    0    0    0]\n",
      " [   0 6136    0    0   60]\n",
      " [   0    0 5265    0   62]\n",
      " [   0   19    0 2035    0]\n",
      " [   0  104    0    0 9944]]\n"
     ]
    }
   ],
   "source": [
    "from sklearn.metrics import confusion_matrix\n",
    "from sklearn.preprocessing import MultiLabelBinarizer\n",
    "reference_list = [ref for lab in references for ref in lab]\n",
    "prediction_list = [pred for sample in predictions for pred in sample]\n",
    "\n",
    "\n",
    "\n",
    "z = confusion_matrix(reference_list, prediction_list, labels=[\"pe\", \"wo\", \"sk\", \"ed\", \"none\"])\n",
    "print(z)"
   ]
  },
  {
   "cell_type": "code",
   "execution_count": 100,
   "id": "bad3c0cf-3c07-4c3e-bad3-5ad7649725a3",
   "metadata": {
    "tags": []
   },
   "outputs": [
    {
     "data": {
      "application/vnd.plotly.v1+json": {
       "config": {
        "plotlyServerURL": "https://plot.ly"
       },
       "data": [
        {
         "colorscale": [
          [
           0,
           "#440154"
          ],
          [
           0.1111111111111111,
           "#482878"
          ],
          [
           0.2222222222222222,
           "#3e4989"
          ],
          [
           0.3333333333333333,
           "#31688e"
          ],
          [
           0.4444444444444444,
           "#26828e"
          ],
          [
           0.5555555555555556,
           "#1f9e89"
          ],
          [
           0.6666666666666666,
           "#35b779"
          ],
          [
           0.7777777777777778,
           "#6ece58"
          ],
          [
           0.8888888888888888,
           "#b5de2b"
          ],
          [
           1,
           "#fde725"
          ]
         ],
         "reversescale": false,
         "showscale": true,
         "type": "heatmap",
         "x": [
          "pe",
          "wo",
          "sk",
          "ed",
          "none"
         ],
         "y": [
          "pe",
          "wo",
          "sk",
          "ed",
          "none"
         ],
         "z": [
          [
           2693,
           0,
           0,
           0,
           0
          ],
          [
           0,
           6136,
           0,
           0,
           60
          ],
          [
           0,
           0,
           5265,
           0,
           62
          ],
          [
           0,
           19,
           0,
           2035,
           0
          ],
          [
           0,
           104,
           0,
           0,
           9944
          ]
         ]
        }
       ],
       "layout": {
        "annotations": [
         {
          "font": {
           "color": "#FFFFFF"
          },
          "showarrow": false,
          "text": "2693",
          "x": "pe",
          "xref": "x",
          "y": "pe",
          "yref": "y"
         },
         {
          "font": {
           "color": "#FFFFFF"
          },
          "showarrow": false,
          "text": "0",
          "x": "wo",
          "xref": "x",
          "y": "pe",
          "yref": "y"
         },
         {
          "font": {
           "color": "#FFFFFF"
          },
          "showarrow": false,
          "text": "0",
          "x": "sk",
          "xref": "x",
          "y": "pe",
          "yref": "y"
         },
         {
          "font": {
           "color": "#FFFFFF"
          },
          "showarrow": false,
          "text": "0",
          "x": "ed",
          "xref": "x",
          "y": "pe",
          "yref": "y"
         },
         {
          "font": {
           "color": "#FFFFFF"
          },
          "showarrow": false,
          "text": "0",
          "x": "none",
          "xref": "x",
          "y": "pe",
          "yref": "y"
         },
         {
          "font": {
           "color": "#FFFFFF"
          },
          "showarrow": false,
          "text": "0",
          "x": "pe",
          "xref": "x",
          "y": "wo",
          "yref": "y"
         },
         {
          "font": {
           "color": "#000000"
          },
          "showarrow": false,
          "text": "6136",
          "x": "wo",
          "xref": "x",
          "y": "wo",
          "yref": "y"
         },
         {
          "font": {
           "color": "#FFFFFF"
          },
          "showarrow": false,
          "text": "0",
          "x": "sk",
          "xref": "x",
          "y": "wo",
          "yref": "y"
         },
         {
          "font": {
           "color": "#FFFFFF"
          },
          "showarrow": false,
          "text": "0",
          "x": "ed",
          "xref": "x",
          "y": "wo",
          "yref": "y"
         },
         {
          "font": {
           "color": "#FFFFFF"
          },
          "showarrow": false,
          "text": "60",
          "x": "none",
          "xref": "x",
          "y": "wo",
          "yref": "y"
         },
         {
          "font": {
           "color": "#FFFFFF"
          },
          "showarrow": false,
          "text": "0",
          "x": "pe",
          "xref": "x",
          "y": "sk",
          "yref": "y"
         },
         {
          "font": {
           "color": "#FFFFFF"
          },
          "showarrow": false,
          "text": "0",
          "x": "wo",
          "xref": "x",
          "y": "sk",
          "yref": "y"
         },
         {
          "font": {
           "color": "#000000"
          },
          "showarrow": false,
          "text": "5265",
          "x": "sk",
          "xref": "x",
          "y": "sk",
          "yref": "y"
         },
         {
          "font": {
           "color": "#FFFFFF"
          },
          "showarrow": false,
          "text": "0",
          "x": "ed",
          "xref": "x",
          "y": "sk",
          "yref": "y"
         },
         {
          "font": {
           "color": "#FFFFFF"
          },
          "showarrow": false,
          "text": "62",
          "x": "none",
          "xref": "x",
          "y": "sk",
          "yref": "y"
         },
         {
          "font": {
           "color": "#FFFFFF"
          },
          "showarrow": false,
          "text": "0",
          "x": "pe",
          "xref": "x",
          "y": "ed",
          "yref": "y"
         },
         {
          "font": {
           "color": "#FFFFFF"
          },
          "showarrow": false,
          "text": "19",
          "x": "wo",
          "xref": "x",
          "y": "ed",
          "yref": "y"
         },
         {
          "font": {
           "color": "#FFFFFF"
          },
          "showarrow": false,
          "text": "0",
          "x": "sk",
          "xref": "x",
          "y": "ed",
          "yref": "y"
         },
         {
          "font": {
           "color": "#FFFFFF"
          },
          "showarrow": false,
          "text": "2035",
          "x": "ed",
          "xref": "x",
          "y": "ed",
          "yref": "y"
         },
         {
          "font": {
           "color": "#FFFFFF"
          },
          "showarrow": false,
          "text": "0",
          "x": "none",
          "xref": "x",
          "y": "ed",
          "yref": "y"
         },
         {
          "font": {
           "color": "#FFFFFF"
          },
          "showarrow": false,
          "text": "0",
          "x": "pe",
          "xref": "x",
          "y": "none",
          "yref": "y"
         },
         {
          "font": {
           "color": "#FFFFFF"
          },
          "showarrow": false,
          "text": "104",
          "x": "wo",
          "xref": "x",
          "y": "none",
          "yref": "y"
         },
         {
          "font": {
           "color": "#FFFFFF"
          },
          "showarrow": false,
          "text": "0",
          "x": "sk",
          "xref": "x",
          "y": "none",
          "yref": "y"
         },
         {
          "font": {
           "color": "#FFFFFF"
          },
          "showarrow": false,
          "text": "0",
          "x": "ed",
          "xref": "x",
          "y": "none",
          "yref": "y"
         },
         {
          "font": {
           "color": "#000000"
          },
          "showarrow": false,
          "text": "9944",
          "x": "none",
          "xref": "x",
          "y": "none",
          "yref": "y"
         },
         {
          "font": {
           "color": "black",
           "size": 14
          },
          "showarrow": false,
          "text": "Predicted value",
          "x": 0.5,
          "xref": "paper",
          "y": -0.15,
          "yref": "paper"
         },
         {
          "font": {
           "color": "black",
           "size": 14
          },
          "showarrow": false,
          "text": "Real value",
          "textangle": -90,
          "x": -0.35,
          "xref": "paper",
          "y": 0.5,
          "yref": "paper"
         }
        ],
        "autosize": true,
        "margin": {
         "l": 200,
         "t": 50
        },
        "template": {
         "data": {
          "bar": [
           {
            "error_x": {
             "color": "#2a3f5f"
            },
            "error_y": {
             "color": "#2a3f5f"
            },
            "marker": {
             "line": {
              "color": "#E5ECF6",
              "width": 0.5
             },
             "pattern": {
              "fillmode": "overlay",
              "size": 10,
              "solidity": 0.2
             }
            },
            "type": "bar"
           }
          ],
          "barpolar": [
           {
            "marker": {
             "line": {
              "color": "#E5ECF6",
              "width": 0.5
             },
             "pattern": {
              "fillmode": "overlay",
              "size": 10,
              "solidity": 0.2
             }
            },
            "type": "barpolar"
           }
          ],
          "carpet": [
           {
            "aaxis": {
             "endlinecolor": "#2a3f5f",
             "gridcolor": "white",
             "linecolor": "white",
             "minorgridcolor": "white",
             "startlinecolor": "#2a3f5f"
            },
            "baxis": {
             "endlinecolor": "#2a3f5f",
             "gridcolor": "white",
             "linecolor": "white",
             "minorgridcolor": "white",
             "startlinecolor": "#2a3f5f"
            },
            "type": "carpet"
           }
          ],
          "choropleth": [
           {
            "colorbar": {
             "outlinewidth": 0,
             "ticks": ""
            },
            "type": "choropleth"
           }
          ],
          "contour": [
           {
            "colorbar": {
             "outlinewidth": 0,
             "ticks": ""
            },
            "colorscale": [
             [
              0,
              "#0d0887"
             ],
             [
              0.1111111111111111,
              "#46039f"
             ],
             [
              0.2222222222222222,
              "#7201a8"
             ],
             [
              0.3333333333333333,
              "#9c179e"
             ],
             [
              0.4444444444444444,
              "#bd3786"
             ],
             [
              0.5555555555555556,
              "#d8576b"
             ],
             [
              0.6666666666666666,
              "#ed7953"
             ],
             [
              0.7777777777777778,
              "#fb9f3a"
             ],
             [
              0.8888888888888888,
              "#fdca26"
             ],
             [
              1,
              "#f0f921"
             ]
            ],
            "type": "contour"
           }
          ],
          "contourcarpet": [
           {
            "colorbar": {
             "outlinewidth": 0,
             "ticks": ""
            },
            "type": "contourcarpet"
           }
          ],
          "heatmap": [
           {
            "colorbar": {
             "outlinewidth": 0,
             "ticks": ""
            },
            "colorscale": [
             [
              0,
              "#0d0887"
             ],
             [
              0.1111111111111111,
              "#46039f"
             ],
             [
              0.2222222222222222,
              "#7201a8"
             ],
             [
              0.3333333333333333,
              "#9c179e"
             ],
             [
              0.4444444444444444,
              "#bd3786"
             ],
             [
              0.5555555555555556,
              "#d8576b"
             ],
             [
              0.6666666666666666,
              "#ed7953"
             ],
             [
              0.7777777777777778,
              "#fb9f3a"
             ],
             [
              0.8888888888888888,
              "#fdca26"
             ],
             [
              1,
              "#f0f921"
             ]
            ],
            "type": "heatmap"
           }
          ],
          "heatmapgl": [
           {
            "colorbar": {
             "outlinewidth": 0,
             "ticks": ""
            },
            "colorscale": [
             [
              0,
              "#0d0887"
             ],
             [
              0.1111111111111111,
              "#46039f"
             ],
             [
              0.2222222222222222,
              "#7201a8"
             ],
             [
              0.3333333333333333,
              "#9c179e"
             ],
             [
              0.4444444444444444,
              "#bd3786"
             ],
             [
              0.5555555555555556,
              "#d8576b"
             ],
             [
              0.6666666666666666,
              "#ed7953"
             ],
             [
              0.7777777777777778,
              "#fb9f3a"
             ],
             [
              0.8888888888888888,
              "#fdca26"
             ],
             [
              1,
              "#f0f921"
             ]
            ],
            "type": "heatmapgl"
           }
          ],
          "histogram": [
           {
            "marker": {
             "pattern": {
              "fillmode": "overlay",
              "size": 10,
              "solidity": 0.2
             }
            },
            "type": "histogram"
           }
          ],
          "histogram2d": [
           {
            "colorbar": {
             "outlinewidth": 0,
             "ticks": ""
            },
            "colorscale": [
             [
              0,
              "#0d0887"
             ],
             [
              0.1111111111111111,
              "#46039f"
             ],
             [
              0.2222222222222222,
              "#7201a8"
             ],
             [
              0.3333333333333333,
              "#9c179e"
             ],
             [
              0.4444444444444444,
              "#bd3786"
             ],
             [
              0.5555555555555556,
              "#d8576b"
             ],
             [
              0.6666666666666666,
              "#ed7953"
             ],
             [
              0.7777777777777778,
              "#fb9f3a"
             ],
             [
              0.8888888888888888,
              "#fdca26"
             ],
             [
              1,
              "#f0f921"
             ]
            ],
            "type": "histogram2d"
           }
          ],
          "histogram2dcontour": [
           {
            "colorbar": {
             "outlinewidth": 0,
             "ticks": ""
            },
            "colorscale": [
             [
              0,
              "#0d0887"
             ],
             [
              0.1111111111111111,
              "#46039f"
             ],
             [
              0.2222222222222222,
              "#7201a8"
             ],
             [
              0.3333333333333333,
              "#9c179e"
             ],
             [
              0.4444444444444444,
              "#bd3786"
             ],
             [
              0.5555555555555556,
              "#d8576b"
             ],
             [
              0.6666666666666666,
              "#ed7953"
             ],
             [
              0.7777777777777778,
              "#fb9f3a"
             ],
             [
              0.8888888888888888,
              "#fdca26"
             ],
             [
              1,
              "#f0f921"
             ]
            ],
            "type": "histogram2dcontour"
           }
          ],
          "mesh3d": [
           {
            "colorbar": {
             "outlinewidth": 0,
             "ticks": ""
            },
            "type": "mesh3d"
           }
          ],
          "parcoords": [
           {
            "line": {
             "colorbar": {
              "outlinewidth": 0,
              "ticks": ""
             }
            },
            "type": "parcoords"
           }
          ],
          "pie": [
           {
            "automargin": true,
            "type": "pie"
           }
          ],
          "scatter": [
           {
            "fillpattern": {
             "fillmode": "overlay",
             "size": 10,
             "solidity": 0.2
            },
            "type": "scatter"
           }
          ],
          "scatter3d": [
           {
            "line": {
             "colorbar": {
              "outlinewidth": 0,
              "ticks": ""
             }
            },
            "marker": {
             "colorbar": {
              "outlinewidth": 0,
              "ticks": ""
             }
            },
            "type": "scatter3d"
           }
          ],
          "scattercarpet": [
           {
            "marker": {
             "colorbar": {
              "outlinewidth": 0,
              "ticks": ""
             }
            },
            "type": "scattercarpet"
           }
          ],
          "scattergeo": [
           {
            "marker": {
             "colorbar": {
              "outlinewidth": 0,
              "ticks": ""
             }
            },
            "type": "scattergeo"
           }
          ],
          "scattergl": [
           {
            "marker": {
             "colorbar": {
              "outlinewidth": 0,
              "ticks": ""
             }
            },
            "type": "scattergl"
           }
          ],
          "scattermapbox": [
           {
            "marker": {
             "colorbar": {
              "outlinewidth": 0,
              "ticks": ""
             }
            },
            "type": "scattermapbox"
           }
          ],
          "scatterpolar": [
           {
            "marker": {
             "colorbar": {
              "outlinewidth": 0,
              "ticks": ""
             }
            },
            "type": "scatterpolar"
           }
          ],
          "scatterpolargl": [
           {
            "marker": {
             "colorbar": {
              "outlinewidth": 0,
              "ticks": ""
             }
            },
            "type": "scatterpolargl"
           }
          ],
          "scatterternary": [
           {
            "marker": {
             "colorbar": {
              "outlinewidth": 0,
              "ticks": ""
             }
            },
            "type": "scatterternary"
           }
          ],
          "surface": [
           {
            "colorbar": {
             "outlinewidth": 0,
             "ticks": ""
            },
            "colorscale": [
             [
              0,
              "#0d0887"
             ],
             [
              0.1111111111111111,
              "#46039f"
             ],
             [
              0.2222222222222222,
              "#7201a8"
             ],
             [
              0.3333333333333333,
              "#9c179e"
             ],
             [
              0.4444444444444444,
              "#bd3786"
             ],
             [
              0.5555555555555556,
              "#d8576b"
             ],
             [
              0.6666666666666666,
              "#ed7953"
             ],
             [
              0.7777777777777778,
              "#fb9f3a"
             ],
             [
              0.8888888888888888,
              "#fdca26"
             ],
             [
              1,
              "#f0f921"
             ]
            ],
            "type": "surface"
           }
          ],
          "table": [
           {
            "cells": {
             "fill": {
              "color": "#EBF0F8"
             },
             "line": {
              "color": "white"
             }
            },
            "header": {
             "fill": {
              "color": "#C8D4E3"
             },
             "line": {
              "color": "white"
             }
            },
            "type": "table"
           }
          ]
         },
         "layout": {
          "annotationdefaults": {
           "arrowcolor": "#2a3f5f",
           "arrowhead": 0,
           "arrowwidth": 1
          },
          "autotypenumbers": "strict",
          "coloraxis": {
           "colorbar": {
            "outlinewidth": 0,
            "ticks": ""
           }
          },
          "colorscale": {
           "diverging": [
            [
             0,
             "#8e0152"
            ],
            [
             0.1,
             "#c51b7d"
            ],
            [
             0.2,
             "#de77ae"
            ],
            [
             0.3,
             "#f1b6da"
            ],
            [
             0.4,
             "#fde0ef"
            ],
            [
             0.5,
             "#f7f7f7"
            ],
            [
             0.6,
             "#e6f5d0"
            ],
            [
             0.7,
             "#b8e186"
            ],
            [
             0.8,
             "#7fbc41"
            ],
            [
             0.9,
             "#4d9221"
            ],
            [
             1,
             "#276419"
            ]
           ],
           "sequential": [
            [
             0,
             "#0d0887"
            ],
            [
             0.1111111111111111,
             "#46039f"
            ],
            [
             0.2222222222222222,
             "#7201a8"
            ],
            [
             0.3333333333333333,
             "#9c179e"
            ],
            [
             0.4444444444444444,
             "#bd3786"
            ],
            [
             0.5555555555555556,
             "#d8576b"
            ],
            [
             0.6666666666666666,
             "#ed7953"
            ],
            [
             0.7777777777777778,
             "#fb9f3a"
            ],
            [
             0.8888888888888888,
             "#fdca26"
            ],
            [
             1,
             "#f0f921"
            ]
           ],
           "sequentialminus": [
            [
             0,
             "#0d0887"
            ],
            [
             0.1111111111111111,
             "#46039f"
            ],
            [
             0.2222222222222222,
             "#7201a8"
            ],
            [
             0.3333333333333333,
             "#9c179e"
            ],
            [
             0.4444444444444444,
             "#bd3786"
            ],
            [
             0.5555555555555556,
             "#d8576b"
            ],
            [
             0.6666666666666666,
             "#ed7953"
            ],
            [
             0.7777777777777778,
             "#fb9f3a"
            ],
            [
             0.8888888888888888,
             "#fdca26"
            ],
            [
             1,
             "#f0f921"
            ]
           ]
          },
          "colorway": [
           "#636efa",
           "#EF553B",
           "#00cc96",
           "#ab63fa",
           "#FFA15A",
           "#19d3f3",
           "#FF6692",
           "#B6E880",
           "#FF97FF",
           "#FECB52"
          ],
          "font": {
           "color": "#2a3f5f"
          },
          "geo": {
           "bgcolor": "white",
           "lakecolor": "white",
           "landcolor": "#E5ECF6",
           "showlakes": true,
           "showland": true,
           "subunitcolor": "white"
          },
          "hoverlabel": {
           "align": "left"
          },
          "hovermode": "closest",
          "mapbox": {
           "style": "light"
          },
          "paper_bgcolor": "white",
          "plot_bgcolor": "#E5ECF6",
          "polar": {
           "angularaxis": {
            "gridcolor": "white",
            "linecolor": "white",
            "ticks": ""
           },
           "bgcolor": "#E5ECF6",
           "radialaxis": {
            "gridcolor": "white",
            "linecolor": "white",
            "ticks": ""
           }
          },
          "scene": {
           "xaxis": {
            "backgroundcolor": "#E5ECF6",
            "gridcolor": "white",
            "gridwidth": 2,
            "linecolor": "white",
            "showbackground": true,
            "ticks": "",
            "zerolinecolor": "white"
           },
           "yaxis": {
            "backgroundcolor": "#E5ECF6",
            "gridcolor": "white",
            "gridwidth": 2,
            "linecolor": "white",
            "showbackground": true,
            "ticks": "",
            "zerolinecolor": "white"
           },
           "zaxis": {
            "backgroundcolor": "#E5ECF6",
            "gridcolor": "white",
            "gridwidth": 2,
            "linecolor": "white",
            "showbackground": true,
            "ticks": "",
            "zerolinecolor": "white"
           }
          },
          "shapedefaults": {
           "line": {
            "color": "#2a3f5f"
           }
          },
          "ternary": {
           "aaxis": {
            "gridcolor": "white",
            "linecolor": "white",
            "ticks": ""
           },
           "baxis": {
            "gridcolor": "white",
            "linecolor": "white",
            "ticks": ""
           },
           "bgcolor": "#E5ECF6",
           "caxis": {
            "gridcolor": "white",
            "linecolor": "white",
            "ticks": ""
           }
          },
          "title": {
           "x": 0.05
          },
          "xaxis": {
           "automargin": true,
           "gridcolor": "white",
           "linecolor": "white",
           "ticks": "",
           "title": {
            "standoff": 15
           },
           "zerolinecolor": "white",
           "zerolinewidth": 2
          },
          "yaxis": {
           "automargin": true,
           "gridcolor": "white",
           "linecolor": "white",
           "ticks": "",
           "title": {
            "standoff": 15
           },
           "zerolinecolor": "white",
           "zerolinewidth": 2
          }
         }
        },
        "title": {
         "text": "<i><b>Confusion matrix</b></i>"
        },
        "xaxis": {
         "autorange": true,
         "dtick": 1,
         "gridcolor": "rgb(0, 0, 0)",
         "range": [
          -0.5,
          4.5
         ],
         "side": "top",
         "ticks": "",
         "type": "category"
        },
        "yaxis": {
         "autorange": true,
         "dtick": 1,
         "range": [
          -0.5,
          4.5
         ],
         "ticks": "",
         "ticksuffix": "  ",
         "type": "category"
        }
       }
      },
      "image/png": "[encoded data removed]",
      "text/html": [
       "<div>                            <div id=\"c74964c9-9a66-4c3a-9938-3128718f56fb\" class=\"plotly-graph-div\" style=\"height:525px; width:100%;\"></div>            <script type=\"text/javascript\">                require([\"plotly\"], function(Plotly) {                    window.PLOTLYENV=window.PLOTLYENV || {};                                    if (document.getElementById(\"c74964c9-9a66-4c3a-9938-3128718f56fb\")) {                    Plotly.newPlot(                        \"c74964c9-9a66-4c3a-9938-3128718f56fb\",                        [{\"colorscale\":[[0.0,\"#440154\"],[0.1111111111111111,\"#482878\"],[0.2222222222222222,\"#3e4989\"],[0.3333333333333333,\"#31688e\"],[0.4444444444444444,\"#26828e\"],[0.5555555555555556,\"#1f9e89\"],[0.6666666666666666,\"#35b779\"],[0.7777777777777778,\"#6ece58\"],[0.8888888888888888,\"#b5de2b\"],[1.0,\"#fde725\"]],\"reversescale\":false,\"showscale\":true,\"x\":[\"pe\",\"wo\",\"sk\",\"ed\",\"none\"],\"y\":[\"pe\",\"wo\",\"sk\",\"ed\",\"none\"],\"z\":[[2693,0,0,0,0],[0,6136,0,0,60],[0,0,5265,0,62],[0,19,0,2035,0],[0,104,0,0,9944]],\"type\":\"heatmap\"}],                        {\"annotations\":[{\"font\":{\"color\":\"#FFFFFF\"},\"showarrow\":false,\"text\":\"2693\",\"x\":\"pe\",\"xref\":\"x\",\"y\":\"pe\",\"yref\":\"y\"},{\"font\":{\"color\":\"#FFFFFF\"},\"showarrow\":false,\"text\":\"0\",\"x\":\"wo\",\"xref\":\"x\",\"y\":\"pe\",\"yref\":\"y\"},{\"font\":{\"color\":\"#FFFFFF\"},\"showarrow\":false,\"text\":\"0\",\"x\":\"sk\",\"xref\":\"x\",\"y\":\"pe\",\"yref\":\"y\"},{\"font\":{\"color\":\"#FFFFFF\"},\"showarrow\":false,\"text\":\"0\",\"x\":\"ed\",\"xref\":\"x\",\"y\":\"pe\",\"yref\":\"y\"},{\"font\":{\"color\":\"#FFFFFF\"},\"showarrow\":false,\"text\":\"0\",\"x\":\"none\",\"xref\":\"x\",\"y\":\"pe\",\"yref\":\"y\"},{\"font\":{\"color\":\"#FFFFFF\"},\"showarrow\":false,\"text\":\"0\",\"x\":\"pe\",\"xref\":\"x\",\"y\":\"wo\",\"yref\":\"y\"},{\"font\":{\"color\":\"#000000\"},\"showarrow\":false,\"text\":\"6136\",\"x\":\"wo\",\"xref\":\"x\",\"y\":\"wo\",\"yref\":\"y\"},{\"font\":{\"color\":\"#FFFFFF\"},\"showarrow\":false,\"text\":\"0\",\"x\":\"sk\",\"xref\":\"x\",\"y\":\"wo\",\"yref\":\"y\"},{\"font\":{\"color\":\"#FFFFFF\"},\"showarrow\":false,\"text\":\"0\",\"x\":\"ed\",\"xref\":\"x\",\"y\":\"wo\",\"yref\":\"y\"},{\"font\":{\"color\":\"#FFFFFF\"},\"showarrow\":false,\"text\":\"60\",\"x\":\"none\",\"xref\":\"x\",\"y\":\"wo\",\"yref\":\"y\"},{\"font\":{\"color\":\"#FFFFFF\"},\"showarrow\":false,\"text\":\"0\",\"x\":\"pe\",\"xref\":\"x\",\"y\":\"sk\",\"yref\":\"y\"},{\"font\":{\"color\":\"#FFFFFF\"},\"showarrow\":false,\"text\":\"0\",\"x\":\"wo\",\"xref\":\"x\",\"y\":\"sk\",\"yref\":\"y\"},{\"font\":{\"color\":\"#000000\"},\"showarrow\":false,\"text\":\"5265\",\"x\":\"sk\",\"xref\":\"x\",\"y\":\"sk\",\"yref\":\"y\"},{\"font\":{\"color\":\"#FFFFFF\"},\"showarrow\":false,\"text\":\"0\",\"x\":\"ed\",\"xref\":\"x\",\"y\":\"sk\",\"yref\":\"y\"},{\"font\":{\"color\":\"#FFFFFF\"},\"showarrow\":false,\"text\":\"62\",\"x\":\"none\",\"xref\":\"x\",\"y\":\"sk\",\"yref\":\"y\"},{\"font\":{\"color\":\"#FFFFFF\"},\"showarrow\":false,\"text\":\"0\",\"x\":\"pe\",\"xref\":\"x\",\"y\":\"ed\",\"yref\":\"y\"},{\"font\":{\"color\":\"#FFFFFF\"},\"showarrow\":false,\"text\":\"19\",\"x\":\"wo\",\"xref\":\"x\",\"y\":\"ed\",\"yref\":\"y\"},{\"font\":{\"color\":\"#FFFFFF\"},\"showarrow\":false,\"text\":\"0\",\"x\":\"sk\",\"xref\":\"x\",\"y\":\"ed\",\"yref\":\"y\"},{\"font\":{\"color\":\"#FFFFFF\"},\"showarrow\":false,\"text\":\"2035\",\"x\":\"ed\",\"xref\":\"x\",\"y\":\"ed\",\"yref\":\"y\"},{\"font\":{\"color\":\"#FFFFFF\"},\"showarrow\":false,\"text\":\"0\",\"x\":\"none\",\"xref\":\"x\",\"y\":\"ed\",\"yref\":\"y\"},{\"font\":{\"color\":\"#FFFFFF\"},\"showarrow\":false,\"text\":\"0\",\"x\":\"pe\",\"xref\":\"x\",\"y\":\"none\",\"yref\":\"y\"},{\"font\":{\"color\":\"#FFFFFF\"},\"showarrow\":false,\"text\":\"104\",\"x\":\"wo\",\"xref\":\"x\",\"y\":\"none\",\"yref\":\"y\"},{\"font\":{\"color\":\"#FFFFFF\"},\"showarrow\":false,\"text\":\"0\",\"x\":\"sk\",\"xref\":\"x\",\"y\":\"none\",\"yref\":\"y\"},{\"font\":{\"color\":\"#FFFFFF\"},\"showarrow\":false,\"text\":\"0\",\"x\":\"ed\",\"xref\":\"x\",\"y\":\"none\",\"yref\":\"y\"},{\"font\":{\"color\":\"#000000\"},\"showarrow\":false,\"text\":\"9944\",\"x\":\"none\",\"xref\":\"x\",\"y\":\"none\",\"yref\":\"y\"},{\"font\":{\"color\":\"black\",\"size\":14},\"showarrow\":false,\"text\":\"Predicted value\",\"x\":0.5,\"xref\":\"paper\",\"y\":-0.15,\"yref\":\"paper\"},{\"font\":{\"color\":\"black\",\"size\":14},\"showarrow\":false,\"text\":\"Real value\",\"textangle\":-90,\"x\":-0.35,\"xref\":\"paper\",\"y\":0.5,\"yref\":\"paper\"}],\"xaxis\":{\"dtick\":1,\"gridcolor\":\"rgb(0, 0, 0)\",\"side\":\"top\",\"ticks\":\"\"},\"yaxis\":{\"dtick\":1,\"ticks\":\"\",\"ticksuffix\":\"  \"},\"template\":{\"data\":{\"histogram2dcontour\":[{\"type\":\"histogram2dcontour\",\"colorbar\":{\"outlinewidth\":0,\"ticks\":\"\"},\"colorscale\":[[0.0,\"#0d0887\"],[0.1111111111111111,\"#46039f\"],[0.2222222222222222,\"#7201a8\"],[0.3333333333333333,\"#9c179e\"],[0.4444444444444444,\"#bd3786\"],[0.5555555555555556,\"#d8576b\"],[0.6666666666666666,\"#ed7953\"],[0.7777777777777778,\"#fb9f3a\"],[0.8888888888888888,\"#fdca26\"],[1.0,\"#f0f921\"]]}],\"choropleth\":[{\"type\":\"choropleth\",\"colorbar\":{\"outlinewidth\":0,\"ticks\":\"\"}}],\"histogram2d\":[{\"type\":\"histogram2d\",\"colorbar\":{\"outlinewidth\":0,\"ticks\":\"\"},\"colorscale\":[[0.0,\"#0d0887\"],[0.1111111111111111,\"#46039f\"],[0.2222222222222222,\"#7201a8\"],[0.3333333333333333,\"#9c179e\"],[0.4444444444444444,\"#bd3786\"],[0.5555555555555556,\"#d8576b\"],[0.6666666666666666,\"#ed7953\"],[0.7777777777777778,\"#fb9f3a\"],[0.8888888888888888,\"#fdca26\"],[1.0,\"#f0f921\"]]}],\"heatmap\":[{\"type\":\"heatmap\",\"colorbar\":{\"outlinewidth\":0,\"ticks\":\"\"},\"colorscale\":[[0.0,\"#0d0887\"],[0.1111111111111111,\"#46039f\"],[0.2222222222222222,\"#7201a8\"],[0.3333333333333333,\"#9c179e\"],[0.4444444444444444,\"#bd3786\"],[0.5555555555555556,\"#d8576b\"],[0.6666666666666666,\"#ed7953\"],[0.7777777777777778,\"#fb9f3a\"],[0.8888888888888888,\"#fdca26\"],[1.0,\"#f0f921\"]]}],\"heatmapgl\":[{\"type\":\"heatmapgl\",\"colorbar\":{\"outlinewidth\":0,\"ticks\":\"\"},\"colorscale\":[[0.0,\"#0d0887\"],[0.1111111111111111,\"#46039f\"],[0.2222222222222222,\"#7201a8\"],[0.3333333333333333,\"#9c179e\"],[0.4444444444444444,\"#bd3786\"],[0.5555555555555556,\"#d8576b\"],[0.6666666666666666,\"#ed7953\"],[0.7777777777777778,\"#fb9f3a\"],[0.8888888888888888,\"#fdca26\"],[1.0,\"#f0f921\"]]}],\"contourcarpet\":[{\"type\":\"contourcarpet\",\"colorbar\":{\"outlinewidth\":0,\"ticks\":\"\"}}],\"contour\":[{\"type\":\"contour\",\"colorbar\":{\"outlinewidth\":0,\"ticks\":\"\"},\"colorscale\":[[0.0,\"#0d0887\"],[0.1111111111111111,\"#46039f\"],[0.2222222222222222,\"#7201a8\"],[0.3333333333333333,\"#9c179e\"],[0.4444444444444444,\"#bd3786\"],[0.5555555555555556,\"#d8576b\"],[0.6666666666666666,\"#ed7953\"],[0.7777777777777778,\"#fb9f3a\"],[0.8888888888888888,\"#fdca26\"],[1.0,\"#f0f921\"]]}],\"surface\":[{\"type\":\"surface\",\"colorbar\":{\"outlinewidth\":0,\"ticks\":\"\"},\"colorscale\":[[0.0,\"#0d0887\"],[0.1111111111111111,\"#46039f\"],[0.2222222222222222,\"#7201a8\"],[0.3333333333333333,\"#9c179e\"],[0.4444444444444444,\"#bd3786\"],[0.5555555555555556,\"#d8576b\"],[0.6666666666666666,\"#ed7953\"],[0.7777777777777778,\"#fb9f3a\"],[0.8888888888888888,\"#fdca26\"],[1.0,\"#f0f921\"]]}],\"mesh3d\":[{\"type\":\"mesh3d\",\"colorbar\":{\"outlinewidth\":0,\"ticks\":\"\"}}],\"scatter\":[{\"fillpattern\":{\"fillmode\":\"overlay\",\"size\":10,\"solidity\":0.2},\"type\":\"scatter\"}],\"parcoords\":[{\"type\":\"parcoords\",\"line\":{\"colorbar\":{\"outlinewidth\":0,\"ticks\":\"\"}}}],\"scatterpolargl\":[{\"type\":\"scatterpolargl\",\"marker\":{\"colorbar\":{\"outlinewidth\":0,\"ticks\":\"\"}}}],\"bar\":[{\"error_x\":{\"color\":\"#2a3f5f\"},\"error_y\":{\"color\":\"#2a3f5f\"},\"marker\":{\"line\":{\"color\":\"#E5ECF6\",\"width\":0.5},\"pattern\":{\"fillmode\":\"overlay\",\"size\":10,\"solidity\":0.2}},\"type\":\"bar\"}],\"scattergeo\":[{\"type\":\"scattergeo\",\"marker\":{\"colorbar\":{\"outlinewidth\":0,\"ticks\":\"\"}}}],\"scatterpolar\":[{\"type\":\"scatterpolar\",\"marker\":{\"colorbar\":{\"outlinewidth\":0,\"ticks\":\"\"}}}],\"histogram\":[{\"marker\":{\"pattern\":{\"fillmode\":\"overlay\",\"size\":10,\"solidity\":0.2}},\"type\":\"histogram\"}],\"scattergl\":[{\"type\":\"scattergl\",\"marker\":{\"colorbar\":{\"outlinewidth\":0,\"ticks\":\"\"}}}],\"scatter3d\":[{\"type\":\"scatter3d\",\"line\":{\"colorbar\":{\"outlinewidth\":0,\"ticks\":\"\"}},\"marker\":{\"colorbar\":{\"outlinewidth\":0,\"ticks\":\"\"}}}],\"scattermapbox\":[{\"type\":\"scattermapbox\",\"marker\":{\"colorbar\":{\"outlinewidth\":0,\"ticks\":\"\"}}}],\"scatterternary\":[{\"type\":\"scatterternary\",\"marker\":{\"colorbar\":{\"outlinewidth\":0,\"ticks\":\"\"}}}],\"scattercarpet\":[{\"type\":\"scattercarpet\",\"marker\":{\"colorbar\":{\"outlinewidth\":0,\"ticks\":\"\"}}}],\"carpet\":[{\"aaxis\":{\"endlinecolor\":\"#2a3f5f\",\"gridcolor\":\"white\",\"linecolor\":\"white\",\"minorgridcolor\":\"white\",\"startlinecolor\":\"#2a3f5f\"},\"baxis\":{\"endlinecolor\":\"#2a3f5f\",\"gridcolor\":\"white\",\"linecolor\":\"white\",\"minorgridcolor\":\"white\",\"startlinecolor\":\"#2a3f5f\"},\"type\":\"carpet\"}],\"table\":[{\"cells\":{\"fill\":{\"color\":\"#EBF0F8\"},\"line\":{\"color\":\"white\"}},\"header\":{\"fill\":{\"color\":\"#C8D4E3\"},\"line\":{\"color\":\"white\"}},\"type\":\"table\"}],\"barpolar\":[{\"marker\":{\"line\":{\"color\":\"#E5ECF6\",\"width\":0.5},\"pattern\":{\"fillmode\":\"overlay\",\"size\":10,\"solidity\":0.2}},\"type\":\"barpolar\"}],\"pie\":[{\"automargin\":true,\"type\":\"pie\"}]},\"layout\":{\"autotypenumbers\":\"strict\",\"colorway\":[\"#636efa\",\"#EF553B\",\"#00cc96\",\"#ab63fa\",\"#FFA15A\",\"#19d3f3\",\"#FF6692\",\"#B6E880\",\"#FF97FF\",\"#FECB52\"],\"font\":{\"color\":\"#2a3f5f\"},\"hovermode\":\"closest\",\"hoverlabel\":{\"align\":\"left\"},\"paper_bgcolor\":\"white\",\"plot_bgcolor\":\"#E5ECF6\",\"polar\":{\"bgcolor\":\"#E5ECF6\",\"angularaxis\":{\"gridcolor\":\"white\",\"linecolor\":\"white\",\"ticks\":\"\"},\"radialaxis\":{\"gridcolor\":\"white\",\"linecolor\":\"white\",\"ticks\":\"\"}},\"ternary\":{\"bgcolor\":\"#E5ECF6\",\"aaxis\":{\"gridcolor\":\"white\",\"linecolor\":\"white\",\"ticks\":\"\"},\"baxis\":{\"gridcolor\":\"white\",\"linecolor\":\"white\",\"ticks\":\"\"},\"caxis\":{\"gridcolor\":\"white\",\"linecolor\":\"white\",\"ticks\":\"\"}},\"coloraxis\":{\"colorbar\":{\"outlinewidth\":0,\"ticks\":\"\"}},\"colorscale\":{\"sequential\":[[0.0,\"#0d0887\"],[0.1111111111111111,\"#46039f\"],[0.2222222222222222,\"#7201a8\"],[0.3333333333333333,\"#9c179e\"],[0.4444444444444444,\"#bd3786\"],[0.5555555555555556,\"#d8576b\"],[0.6666666666666666,\"#ed7953\"],[0.7777777777777778,\"#fb9f3a\"],[0.8888888888888888,\"#fdca26\"],[1.0,\"#f0f921\"]],\"sequentialminus\":[[0.0,\"#0d0887\"],[0.1111111111111111,\"#46039f\"],[0.2222222222222222,\"#7201a8\"],[0.3333333333333333,\"#9c179e\"],[0.4444444444444444,\"#bd3786\"],[0.5555555555555556,\"#d8576b\"],[0.6666666666666666,\"#ed7953\"],[0.7777777777777778,\"#fb9f3a\"],[0.8888888888888888,\"#fdca26\"],[1.0,\"#f0f921\"]],\"diverging\":[[0,\"#8e0152\"],[0.1,\"#c51b7d\"],[0.2,\"#de77ae\"],[0.3,\"#f1b6da\"],[0.4,\"#fde0ef\"],[0.5,\"#f7f7f7\"],[0.6,\"#e6f5d0\"],[0.7,\"#b8e186\"],[0.8,\"#7fbc41\"],[0.9,\"#4d9221\"],[1,\"#276419\"]]},\"xaxis\":{\"gridcolor\":\"white\",\"linecolor\":\"white\",\"ticks\":\"\",\"title\":{\"standoff\":15},\"zerolinecolor\":\"white\",\"automargin\":true,\"zerolinewidth\":2},\"yaxis\":{\"gridcolor\":\"white\",\"linecolor\":\"white\",\"ticks\":\"\",\"title\":{\"standoff\":15},\"zerolinecolor\":\"white\",\"automargin\":true,\"zerolinewidth\":2},\"scene\":{\"xaxis\":{\"backgroundcolor\":\"#E5ECF6\",\"gridcolor\":\"white\",\"linecolor\":\"white\",\"showbackground\":true,\"ticks\":\"\",\"zerolinecolor\":\"white\",\"gridwidth\":2},\"yaxis\":{\"backgroundcolor\":\"#E5ECF6\",\"gridcolor\":\"white\",\"linecolor\":\"white\",\"showbackground\":true,\"ticks\":\"\",\"zerolinecolor\":\"white\",\"gridwidth\":2},\"zaxis\":{\"backgroundcolor\":\"#E5ECF6\",\"gridcolor\":\"white\",\"linecolor\":\"white\",\"showbackground\":true,\"ticks\":\"\",\"zerolinecolor\":\"white\",\"gridwidth\":2}},\"shapedefaults\":{\"line\":{\"color\":\"#2a3f5f\"}},\"annotationdefaults\":{\"arrowcolor\":\"#2a3f5f\",\"arrowhead\":0,\"arrowwidth\":1},\"geo\":{\"bgcolor\":\"white\",\"landcolor\":\"#E5ECF6\",\"subunitcolor\":\"white\",\"showland\":true,\"showlakes\":true,\"lakecolor\":\"white\"},\"title\":{\"x\":0.05},\"mapbox\":{\"style\":\"light\"}}},\"title\":{\"text\":\"\\u003ci\\u003e\\u003cb\\u003eConfusion matrix\\u003c\\u002fb\\u003e\\u003c\\u002fi\\u003e\"},\"margin\":{\"t\":50,\"l\":200}},                        {\"responsive\": true}                    ).then(function(){\n",
       "                            \n",
       "var gd = document.getElementById('c74964c9-9a66-4c3a-9938-3128718f56fb');\n",
       "var x = new MutationObserver(function (mutations, observer) {{\n",
       "        var display = window.getComputedStyle(gd).display;\n",
       "        if (!display || display === 'none') {{\n",
       "            console.log([gd, 'removed!']);\n",
       "            Plotly.purge(gd);\n",
       "            observer.disconnect();\n",
       "        }}\n",
       "}});\n",
       "\n",
       "// Listen for the removal of the full notebook cells\n",
       "var notebookContainer = gd.closest('#notebook-container');\n",
       "if (notebookContainer) {{\n",
       "    x.observe(notebookContainer, {childList: true});\n",
       "}}\n",
       "\n",
       "// Listen for the clearing of the current output cell\n",
       "var outputEl = gd.closest('.output');\n",
       "if (outputEl) {{\n",
       "    x.observe(outputEl, {childList: true});\n",
       "}}\n",
       "\n",
       "                        })                };                });            </script>        </div>"
      ]
     },
     "metadata": {},
     "output_type": "display_data"
    }
   ],
   "source": [
    "import plotly.express as px\n",
    "x = [\"pe\", \"wo\", \"sk\", \"ed\", \"none\"]\n",
    "y =  [\"pe\", \"wo\", \"sk\", \"ed\", \"none\"]\n",
    "\n",
    "# change each element of z to type string for annotations\n",
    "z_text = [[str(y) for y in x] for x in z]\n",
    "\n",
    "# set up figure \n",
    "fig = ff.create_annotated_heatmap(z, x=x, y=y, annotation_text=z_text, colorscale='Viridis') #, autorange=\"reversed\")\n",
    "# fig = px.imshow(z) # x=x, y=y, annotation_text=z_text, colorscale='Viridis') #, autorange=\"reversed\")\n",
    "\n",
    "\n",
    "# add title\n",
    "fig.update_layout(title_text='<i><b>Confusion matrix</b></i>',\n",
    "                  #xaxis = dict(title='x'),\n",
    "                  #yaxis = dict(title='x')\n",
    "                 )\n",
    "\n",
    "# add custom xaxis title\n",
    "fig.add_annotation(dict(font=dict(color=\"black\",size=14),\n",
    "                        x=0.5,\n",
    "                        y=-0.15,\n",
    "                        showarrow=False,\n",
    "                        text=\"Predicted value\",\n",
    "                        xref=\"paper\",\n",
    "                        yref=\"paper\"))\n",
    "\n",
    "# add custom yaxis title\n",
    "fig.add_annotation(dict(font=dict(color=\"black\",size=14),\n",
    "                        x=-0.35,\n",
    "                        y=0.5,\n",
    "                        showarrow=False,\n",
    "                        text=\"Real value\",\n",
    "                        textangle=-90,\n",
    "                        xref=\"paper\",\n",
    "                        yref=\"paper\"))\n",
    "\n",
    "# Adjust margins to make room for yaxis title\n",
    "fig.update_layout(margin=dict(t=50, l=200))\n",
    "\n",
    "# add colorbar\n",
    "fig['data'][0]['showscale'] = True\n",
    "fig.show()"
   ]
  },
  {
   "cell_type": "code",
   "execution_count": null,
   "id": "13033ad2-a5a9-42b7-9a39-8d9a2fae032a",
   "metadata": {},
   "outputs": [],
   "source": []
  }
 ],
 "metadata": {
  "kernelspec": {
   "display_name": "conda_python3",
   "language": "python",
   "name": "conda_python3"
  },
  "language_info": {
   "codemirror_mode": {
    "name": "ipython",
    "version": 3
   },
   "file_extension": ".py",
   "mimetype": "text/x-python",
   "name": "python",
   "nbconvert_exporter": "python",
   "pygments_lexer": "ipython3",
   "version": "3.10.14"
  }
 },
 "nbformat": 4,
 "nbformat_minor": 5
}
